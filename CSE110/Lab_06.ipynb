{
  "nbformat": 4,
  "nbformat_minor": 0,
  "metadata": {
    "colab": {
      "provenance": []
    },
    "kernelspec": {
      "name": "python3",
      "display_name": "Python 3"
    },
    "language_info": {
      "name": "python"
    }
  },
  "cells": [
    {
      "cell_type": "code",
      "execution_count": null,
      "metadata": {
        "colab": {
          "base_uri": "https://localhost:8080/"
        },
        "id": "Snnua26KVevS",
        "outputId": "20f44112-24b4-4332-e79e-53b5b5226e14"
      },
      "outputs": [
        {
          "output_type": "stream",
          "name": "stdout",
          "text": [
            "400\n"
          ]
        }
      ],
      "source": [
        "#TASK01\n",
        "a_tuple = (\"The Institute\", (\"Best Mystery & Thriller\", \"The Silent Patient\", 68821), 75717,\n",
        "[1, 2, 3, 400, 5, 6, 7], (\"Best Fiction\", \"The Testaments\", 98291))\n",
        "print(a_tuple[3][3])"
      ]
    },
    {
      "cell_type": "code",
      "source": [
        "#TASK02\n",
        "tpl = (-10, 20, 25, 30, 40)\n",
        "lenth = len(tpl)\n",
        "print(tpl[2:lenth-2])"
      ],
      "metadata": {
        "colab": {
          "base_uri": "https://localhost:8080/"
        },
        "id": "qjnNztfaVuKo",
        "outputId": "2369bd1d-3059-49ec-d39a-21e37d4f97b6"
      },
      "execution_count": null,
      "outputs": [
        {
          "output_type": "stream",
          "name": "stdout",
          "text": [
            "(25,)\n"
          ]
        }
      ]
    },
    {
      "cell_type": "code",
      "source": [
        "#TASK03\n",
        "book_info = (\n",
        "(\"Best Mystery & Thriller\",\"The Silent Patient\",68,821),\n",
        "(\"Best Horror\",\"The Institute\",75,717),\n",
        "(\"Best History & Biography\",\"The five\",31,783 ),\n",
        "(\"Best Fiction\",\"The Testaments\",98,291)\n",
        ")\n",
        "lenth = len(book_info)\n",
        "print(\"Size of the tuple is:\",lenth)\n",
        "for i in range(lenth):\n",
        "  print(book_info[i])\n",
        "\n"
      ],
      "metadata": {
        "colab": {
          "base_uri": "https://localhost:8080/"
        },
        "id": "vD8dyFl7WRYL",
        "outputId": "d4bc5e67-3150-457d-e5af-4f59239e78b8"
      },
      "execution_count": null,
      "outputs": [
        {
          "output_type": "stream",
          "name": "stdout",
          "text": [
            "Size of the tuple is: 4\n",
            "('Best Mystery & Thriller', 'The Silent Patient', 68, 821)\n",
            "('Best Horror', 'The Institute', 75, 717)\n",
            "('Best History & Biography', 'The five', 31, 783)\n",
            "('Best Fiction', 'The Testaments', 98, 291)\n"
          ]
        }
      ]
    },
    {
      "cell_type": "code",
      "source": [
        "#TASK04\n",
        "book_info = (\n",
        "(\"Best Mystery & Thriller\",\"The Silent Patient\",68821),\n",
        "(\"Best Horror\",\"The Institute\",75717),\n",
        "(\"Best History & Biography\",\"The five\",31783 ),\n",
        "(\"Best Fiction\",\"The Testaments\",98291)\n",
        ")\n",
        "for i in book_info:\n",
        "  genre,title,votes = i\n",
        "  print(f\"{title} won the '{genre}' category with {votes} votes\")"
      ],
      "metadata": {
        "colab": {
          "base_uri": "https://localhost:8080/"
        },
        "id": "KR1_FcljW_em",
        "outputId": "47754c55-935a-4243-d3b2-40f0b3acc49a"
      },
      "execution_count": null,
      "outputs": [
        {
          "output_type": "stream",
          "name": "stdout",
          "text": [
            "The Silent Patient won the 'Best Mystery & Thriller' category with 68821 votes\n",
            "The Institute won the 'Best Horror' category with 75717 votes\n",
            "The five won the 'Best History & Biography' category with 31783 votes\n",
            "The Testaments won the 'Best Fiction' category with 98291 votes\n"
          ]
        }
      ]
    },
    {
      "cell_type": "code",
      "source": [
        "#TASK05\n",
        "Given_tuple = (10, 8, 5, 2, 10, 15, 10, 8, 5, 8, 8, 2)\n",
        "Num = int(input())\n",
        "counter = 0\n",
        "for i in Given_tuple:\n",
        "  if i == Num:\n",
        "    counter+=1\n",
        "  else:\n",
        "    pass\n",
        "print(Num,\"appears\",counter,\"times in the tuple\")"
      ],
      "metadata": {
        "colab": {
          "base_uri": "https://localhost:8080/"
        },
        "id": "zW9HPpOdY_nG",
        "outputId": "4df09520-fbd4-44b8-e1fe-f05ddae7f110"
      },
      "execution_count": null,
      "outputs": [
        {
          "output_type": "stream",
          "name": "stdout",
          "text": [
            "10\n",
            "10 appears 3 times in the tuple\n"
          ]
        }
      ]
    },
    {
      "cell_type": "code",
      "source": [
        "#TASK06\n",
        "given_tuple = (10, 20, 30, 40, 50, 60)\n",
        "lst = []\n",
        "rev_lst = []\n",
        "for  i in given_tuple:\n",
        "  lst.append(i)\n",
        "lenth = len(lst)\n",
        "for i in range(lenth-1,-1,-1):\n",
        "  rev_lst.append(lst[i])\n",
        "print(tuple(rev_lst))\n"
      ],
      "metadata": {
        "id": "PNnqIPolZ0mN",
        "colab": {
          "base_uri": "https://localhost:8080/"
        },
        "outputId": "e85c4db9-3e5f-4b68-9d1b-6ab6355edd3d"
      },
      "execution_count": null,
      "outputs": [
        {
          "output_type": "stream",
          "name": "stdout",
          "text": [
            "(60, 50, 40, 30, 20, 10)\n"
          ]
        }
      ]
    },
    {
      "cell_type": "code",
      "source": [
        "#TASK07\n",
        "D1 = {'Harry':15, 'Draco':8, 'Nevil':19}\n",
        "D2 = {'Ginie':18, 'Luna': 14}\n",
        "D3 = D1.copy()\n",
        "D3.update(D2)\n",
        "print(D3)\n",
        "print(D1)\n",
        "\n"
      ],
      "metadata": {
        "id": "YnOSzkNzgiwR",
        "colab": {
          "base_uri": "https://localhost:8080/"
        },
        "outputId": "de1160a3-06f3-458c-ea05-f1c96930d61f"
      },
      "execution_count": null,
      "outputs": [
        {
          "output_type": "stream",
          "name": "stdout",
          "text": [
            "{'Harry': 15, 'Draco': 8, 'Nevil': 19, 'Ginie': 18, 'Luna': 14}\n",
            "{'Harry': 15, 'Draco': 8, 'Nevil': 19}\n"
          ]
        }
      ]
    },
    {
      "cell_type": "code",
      "source": [
        "#TASK07 Alter\n",
        "D1 = {'Harry':15, 'Draco':8, 'Nevil':19}\n",
        "D2 = {'Ginie':18, 'Luna': 14}\n",
        "marks = {}\n",
        "for k,v in D1.items():\n",
        "  marks[k] = D1[k]\n",
        "for k,v in D2.items():\n",
        "  marks[k] = D2[k]\n",
        "print(marks)"
      ],
      "metadata": {
        "colab": {
          "base_uri": "https://localhost:8080/"
        },
        "id": "7i0diFLbi6kp",
        "outputId": "6b0bb3cf-e441-4647-8aad-da67792ba5d1"
      },
      "execution_count": null,
      "outputs": [
        {
          "output_type": "stream",
          "name": "stdout",
          "text": [
            "{'Harry': 15, 'Draco': 8, 'Nevil': 19, 'Ginie': 18, 'Luna': 14}\n"
          ]
        }
      ]
    },
    {
      "cell_type": "code",
      "source": [
        "#TASK08\n",
        "Inp = input()\n",
        "Inp = Inp[1:-1]\n",
        "lst = Inp.split(\",\")\n",
        "d1 = {}\n",
        "sum = 0\n",
        "counter=0\n",
        "for i in lst:\n",
        "  k,v= i.split(\":\")\n",
        "  d1[k] = v\n",
        "for value in d1:\n",
        "  sum+= int(d1[value])\n",
        "  counter+=1\n",
        "print(sum//counter)\n",
        "\n"
      ],
      "metadata": {
        "id": "t6BhVxavtdlK",
        "colab": {
          "base_uri": "https://localhost:8080/"
        },
        "outputId": "dabe8968-04f6-414d-e0d9-434ad0f1059b"
      },
      "execution_count": null,
      "outputs": [
        {
          "output_type": "stream",
          "name": "stdout",
          "text": [
            "{'Jon': 100, 'Dan': 200, 'Rob':300}\n",
            "200\n"
          ]
        }
      ]
    },
    {
      "cell_type": "code",
      "source": [
        "#TASK09\n",
        "exam_marks = {'Cierra Vega': 175, 'Alden Cantrell': 200, 'Kierra Gentry': 165, 'Pierre Cox': 190}\n",
        "num = int(input())\n",
        "chosen = exam_marks.copy()\n",
        "for value in exam_marks:\n",
        "  if exam_marks[value]<num:\n",
        "    chosen.pop(value)\n",
        "  else:\n",
        "    pass\n",
        "print(chosen)\n",
        "\n"
      ],
      "metadata": {
        "colab": {
          "base_uri": "https://localhost:8080/"
        },
        "id": "39NwugimXNWs",
        "outputId": "5fd50196-7037-4842-f7ef-cf433162a52e"
      },
      "execution_count": null,
      "outputs": [
        {
          "output_type": "stream",
          "name": "stdout",
          "text": [
            "170\n",
            "{'Cierra Vega': 175, 'Alden Cantrell': 200, 'Pierre Cox': 190}\n"
          ]
        }
      ]
    },
    {
      "cell_type": "code",
      "source": [
        "#TASK10\n",
        "given = {'sci fi': 5, 'mystery': 3, 'horror': 14, 'young_adult': 2, 'adventure':9}\n",
        "max = 0\n",
        "for values in given:\n",
        "  if given[values]>max:\n",
        "    max = given[values]\n",
        "    genre = values\n",
        "  else:\n",
        "    pass\n",
        "print(f\"The highest selling book genre is '{genre}' and the number of books sold are {max}.\")\n"
      ],
      "metadata": {
        "colab": {
          "base_uri": "https://localhost:8080/"
        },
        "id": "Newc5aw6dkCO",
        "outputId": "ede7a289-2d45-4957-f749-c2bd0609a501"
      },
      "execution_count": null,
      "outputs": [
        {
          "output_type": "stream",
          "name": "stdout",
          "text": [
            "The highest selling book genre is 'horror' and the number of books sold are 14.\n"
          ]
        }
      ]
    },
    {
      "cell_type": "code",
      "source": [
        "#TASK11\n",
        "sentence = \"Python programming is fun\".lower()\n",
        "d1={}\n",
        "for i in sentence:\n",
        "  if i != \" \":\n",
        "    if i in d1:\n",
        "      d1[i] += 1\n",
        "    else:\n",
        "      d1[i] = 1\n",
        "  else:\n",
        "    pass\n",
        "\n",
        "print(d1)\n",
        "\n"
      ],
      "metadata": {
        "id": "-cT_NrT3fjF8",
        "colab": {
          "base_uri": "https://localhost:8080/"
        },
        "outputId": "353d6e6a-ff86-4427-d8c9-c99e10c6b99f"
      },
      "execution_count": null,
      "outputs": [
        {
          "output_type": "stream",
          "name": "stdout",
          "text": [
            "{'p': 2, 'y': 1, 't': 1, 'h': 1, 'o': 2, 'n': 3, 'r': 2, 'g': 2, 'a': 1, 'm': 2, 'i': 2, 's': 1, 'f': 1, 'u': 1}\n"
          ]
        }
      ]
    },
    {
      "cell_type": "code",
      "source": [
        "#TASK12\n",
        "dict_1 = {'A': [1, 2, 3,9], 'b': ['1', '2'], \"c\": [4, 5, 6, 7,9,10,11,100]}\n",
        "counter=0\n",
        "for value in dict_1:\n",
        "  for lst in dict_1[value]:\n",
        "    counter+=1\n",
        "print(counter)\n"
      ],
      "metadata": {
        "colab": {
          "base_uri": "https://localhost:8080/"
        },
        "id": "2NriG4ZZf9Jr",
        "outputId": "bd83e3e3-8a76-48c1-8b56-946834e749e1"
      },
      "execution_count": null,
      "outputs": [
        {
          "output_type": "stream",
          "name": "stdout",
          "text": [
            "14\n"
          ]
        }
      ]
    },
    {
      "cell_type": "code",
      "source": [
        "#TASK13\n",
        "list_1 = [(\"a\", 1), (\"b\", 2), (\"a\", 3), (\"b\", 1), (\"a\", 2), (\"c\", 1)]\n",
        "lst_A = []\n",
        "lst_B = []\n",
        "Dict1 ={}\n",
        "lenth = len(list_1)\n",
        "for i in range(lenth):\n",
        "  lst_A.append(list_1[i][0])\n",
        "  for j in range(lenth):\n",
        "    if lst_A[0] == list_1[j][0]:\n",
        "      lst_B.append(list_1[j][1])\n",
        "  Dict1.update({lst_A[0]:lst_B})\n",
        "  lst_A = []\n",
        "  lst_B = []\n",
        "print(Dict1)\n",
        "\n",
        "\n"
      ],
      "metadata": {
        "colab": {
          "base_uri": "https://localhost:8080/"
        },
        "id": "lryaJZnLggfV",
        "outputId": "c15a6f4f-e05e-485a-aa0a-d6d5b9508a68"
      },
      "execution_count": null,
      "outputs": [
        {
          "output_type": "stream",
          "name": "stdout",
          "text": [
            "{'a': [1, 3, 2], 'b': [2, 1], 'c': [1]}\n"
          ]
        }
      ]
    },
    {
      "cell_type": "code",
      "source": [
        "dict1 = {'a':59 , 'b':-82 , 'c':5 , 'd':-81 , 'e':53}\n",
        "for i in dict1:\n",
        "    j = 0\n",
        "    k = 22\n",
        "    while j < 5:\n",
        "        if j % 2 == 0:\n",
        "            k = dict1[i] + j - (8 + k % 6) / 3\n",
        "            print(\"k =\",k)\n",
        "            dict1[i] = dict1[i]+ int(k)\n",
        "            print(\"dict1 = \",i,\" dict1[i] = \",dict1[i] )\n",
        "        else:\n",
        "            k = dict1[i] + j - (6 - k % 8) * 3\n",
        "            print(\"k =\",k)\n",
        "            dict1[i] = dict1[i] - int(k)\n",
        "            print(\"dict1 = \",i,\" dict1[i] = \",dict1[i] )\n",
        "        j += 1\n",
        "        print(\"j =\",j)\n",
        "    print(int(k))\n",
        "    print(i + \" -> \" + str(dict1[i]))\n",
        "\n"
      ],
      "metadata": {
        "colab": {
          "base_uri": "https://localhost:8080/"
        },
        "id": "564AxFAQm4zJ",
        "outputId": "acce4e7f-a659-4af5-b72b-81dc2077ea5e"
      },
      "execution_count": null,
      "outputs": [
        {
          "output_type": "stream",
          "name": "stdout",
          "text": [
            "k = 55.0\n",
            "dict1 =  a  dict1[i] =  114\n",
            "j = 1\n",
            "k = 118.0\n",
            "dict1 =  a  dict1[i] =  -4\n",
            "j = 2\n",
            "k = -6.0\n",
            "dict1 =  a  dict1[i] =  -10\n",
            "j = 3\n",
            "k = -19.0\n",
            "dict1 =  a  dict1[i] =  9\n",
            "j = 4\n",
            "k = 8.666666666666668\n",
            "dict1 =  a  dict1[i] =  17\n",
            "j = 5\n",
            "8\n",
            "a -> 17\n",
            "k = -86.0\n",
            "dict1 =  b  dict1[i] =  -168\n",
            "j = 1\n",
            "k = -179.0\n",
            "dict1 =  b  dict1[i] =  11\n",
            "j = 2\n",
            "k = 10.0\n",
            "dict1 =  b  dict1[i] =  21\n",
            "j = 3\n",
            "k = 12.0\n",
            "dict1 =  b  dict1[i] =  9\n",
            "j = 4\n",
            "k = 10.333333333333334\n",
            "dict1 =  b  dict1[i] =  19\n",
            "j = 5\n",
            "10\n",
            "b -> 19\n",
            "k = 1.0\n",
            "dict1 =  c  dict1[i] =  6\n",
            "j = 1\n",
            "k = -8.0\n",
            "dict1 =  c  dict1[i] =  14\n",
            "j = 2\n",
            "k = 12.0\n",
            "dict1 =  c  dict1[i] =  26\n",
            "j = 3\n",
            "k = 23.0\n",
            "dict1 =  c  dict1[i] =  3\n",
            "j = 4\n",
            "k = 2.666666666666667\n",
            "dict1 =  c  dict1[i] =  5\n",
            "j = 5\n",
            "2\n",
            "c -> 5\n",
            "k = -85.0\n",
            "dict1 =  d  dict1[i] =  -166\n",
            "j = 1\n",
            "k = -174.0\n",
            "dict1 =  d  dict1[i] =  8\n",
            "j = 2\n",
            "k = 7.333333333333334\n",
            "dict1 =  d  dict1[i] =  15\n",
            "j = 3\n",
            "k = 22.0\n",
            "dict1 =  d  dict1[i] =  -7\n",
            "j = 4\n",
            "k = -7.0\n",
            "dict1 =  d  dict1[i] =  -14\n",
            "j = 5\n",
            "-7\n",
            "d -> -14\n",
            "k = 49.0\n",
            "dict1 =  e  dict1[i] =  102\n",
            "j = 1\n",
            "k = 88.0\n",
            "dict1 =  e  dict1[i] =  14\n",
            "j = 2\n",
            "k = 12.0\n",
            "dict1 =  e  dict1[i] =  26\n",
            "j = 3\n",
            "k = 23.0\n",
            "dict1 =  e  dict1[i] =  3\n",
            "j = 4\n",
            "k = 2.666666666666667\n",
            "dict1 =  e  dict1[i] =  5\n",
            "j = 5\n",
            "2\n",
            "e -> 5\n"
          ]
        }
      ]
    },
    {
      "cell_type": "code",
      "source": [
        "8+2-(8+ -8% 8) / 3\n",
        "\n"
      ],
      "metadata": {
        "colab": {
          "base_uri": "https://localhost:8080/"
        },
        "id": "r_l-_RG4nMZ5",
        "outputId": "0896381f-0506-427b-cd41-cf35b6d40fd2"
      },
      "execution_count": null,
      "outputs": [
        {
          "output_type": "execute_result",
          "data": {
            "text/plain": [
              "7.333333333333334"
            ]
          },
          "metadata": {},
          "execution_count": 46
        }
      ]
    },
    {
      "cell_type": "code",
      "source": [],
      "metadata": {
        "id": "regsSE5ynm36"
      },
      "execution_count": null,
      "outputs": []
    }
  ]
}