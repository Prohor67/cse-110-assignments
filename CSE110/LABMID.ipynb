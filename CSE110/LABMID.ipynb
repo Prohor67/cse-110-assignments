{
  "nbformat": 4,
  "nbformat_minor": 0,
  "metadata": {
    "colab": {
      "provenance": []
    },
    "kernelspec": {
      "name": "python3",
      "display_name": "Python 3"
    },
    "language_info": {
      "name": "python"
    }
  },
  "cells": [
    {
      "cell_type": "code",
      "execution_count": null,
      "metadata": {
        "colab": {
          "base_uri": "https://localhost:8080/"
        },
        "id": "6F7dJOp_PdLT",
        "outputId": "233f3ce0-12b0-4e96-d494-2bfc8cf150c6"
      },
      "outputs": [
        {
          "output_type": "stream",
          "name": "stdout",
          "text": [
            "indoors\n",
            "-x-\n",
            "indoorsway oorsinday \n"
          ]
        }
      ],
      "source": [
        "end ='-x-'\n",
        "Word =''\n",
        "counter = 0\n",
        "out =''\n",
        "vcount =0\n",
        "while True:\n",
        "  counter =0\n",
        "  Word = input()\n",
        "  Lenth = len(Word)\n",
        "  if Word == end:\n",
        "    break\n",
        "  else:\n",
        "    for i in range(Lenth-1):\n",
        "      if i == 0 and(Word[i]=='a' or Word[i] =='e' or Word[i] =='i' or Word[i] == 'o' or Word[i] =='u'):\n",
        "        out += Word+'way'+' '\n",
        "      else:\n",
        "        if (counter==0):\n",
        "          if Word[i]=='a' or Word[i] =='e' or Word[i] =='i' or Word[i] == 'o' or Word[i] =='u':\n",
        "            vcount = i\n",
        "            counter += 1\n",
        "            out += Word[vcount:Lenth]+Word[:vcount]+'ay'+' '\n",
        "print(out)\n",
        "\n"
      ]
    },
    {
      "cell_type": "code",
      "source": [
        "WORD = \"PPPigman\"\n",
        "lenth =len(WORD)\n",
        "\n",
        "print(WORD[3:lenth-1:1]+WORD[:3]+'ay')"
      ],
      "metadata": {
        "colab": {
          "base_uri": "https://localhost:8080/"
        },
        "id": "eiT8G_P-l0mY",
        "outputId": "9312087b-5c71-4ca9-ed09-dc7914b76eb0"
      },
      "execution_count": null,
      "outputs": [
        {
          "output_type": "stream",
          "name": "stdout",
          "text": [
            "igmaPPPay\n"
          ]
        }
      ]
    }
  ]
}