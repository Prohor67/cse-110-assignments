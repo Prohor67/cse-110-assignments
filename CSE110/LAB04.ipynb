{
  "nbformat": 4,
  "nbformat_minor": 0,
  "metadata": {
    "colab": {
      "provenance": []
    },
    "kernelspec": {
      "name": "python3",
      "display_name": "Python 3"
    },
    "language_info": {
      "name": "python"
    }
  },
  "cells": [
    {
      "cell_type": "code",
      "execution_count": null,
      "metadata": {
        "id": "Yl5k3BK_jc3I"
      },
      "outputs": [],
      "source": [
        "#TASK 01\n",
        "Word = input()\n",
        "R_word = Word[::-1]\n",
        "print(R_word)"
      ]
    },
    {
      "cell_type": "code",
      "source": [
        "#TASK 02\n",
        "Word = input()\n",
        "Num = int(input())\n",
        "Lenth = len(Word)\n",
        "R_word = Word[Num::-1]+Word[Num+1::1]\n",
        "print(R_word)"
      ],
      "metadata": {
        "id": "RwZgignCj_2s",
        "colab": {
          "base_uri": "https://localhost:8080/"
        },
        "outputId": "6e76990c-4448-41ca-e1e1-1ec961ad5900"
      },
      "execution_count": null,
      "outputs": [
        {
          "output_type": "stream",
          "name": "stdout",
          "text": [
            "123456\n",
            "2\n",
            "321456\n"
          ]
        }
      ]
    },
    {
      "cell_type": "code",
      "source": [
        "#TASK 03\n",
        "bin = input()\n",
        "s ={'0','1'}\n",
        "bin_set = set(bin)\n",
        "if(bin_set == s or bin_set == 1 or bin_set == 0):\n",
        "  print(\"It's a binary number\")\n",
        "else:\n",
        "  print(\"Not a binary number\")"
      ],
      "metadata": {
        "colab": {
          "base_uri": "https://localhost:8080/"
        },
        "id": "R3QyFQzLj_8P",
        "outputId": "2ab9541f-7aa6-4d7a-8e27-a9ad506bee77"
      },
      "execution_count": null,
      "outputs": [
        {
          "output_type": "stream",
          "name": "stdout",
          "text": [
            "101\n",
            "It's a binary number\n"
          ]
        }
      ]
    },
    {
      "cell_type": "code",
      "source": [
        "#TASK 03 ALternate\n",
        "num = input()\n",
        "flag = True\n",
        "for i in num:\n",
        "  if ord(i) == 49 or ord(i) ==48:\n",
        "    flag =True\n",
        "  else:\n",
        "    flag = False\n",
        "    break\n",
        "if (flag == True ):\n",
        "  print(\"IT'S A BINARY NUMBER\")\n",
        "elif(flag == False):\n",
        "  print(\"IT'S NOT A BINARY NUMBER\")"
      ],
      "metadata": {
        "colab": {
          "base_uri": "https://localhost:8080/"
        },
        "id": "NW2cnhHcQHbc",
        "outputId": "ddc35730-4fed-45c2-9c1a-c71bbbf56a92"
      },
      "execution_count": null,
      "outputs": [
        {
          "output_type": "stream",
          "name": "stdout",
          "text": [
            "1011\n",
            "IT'S A BINARY NUMBER\n"
          ]
        }
      ]
    },
    {
      "cell_type": "code",
      "source": [
        "#TASK 04\n",
        "Word = input()\n",
        "Length = len(Word)\n",
        "if (Length<4 and Word[-2:] != \"er\"):\n",
        "  print(Word)\n",
        "elif (Word[-2:] == \"er\"):\n",
        "  print(Word[:-2]+\"est\")\n",
        "elif(Word[-3:] == \"est\"):\n",
        "  print(Word)\n",
        "else:\n",
        "  print(Word+\"er\")"
      ],
      "metadata": {
        "colab": {
          "base_uri": "https://localhost:8080/"
        },
        "id": "64V2FfFGnE9r",
        "outputId": "8f92d979-6246-4226-8d29-c8457c0eddfa"
      },
      "execution_count": null,
      "outputs": [
        {
          "output_type": "stream",
          "name": "stdout",
          "text": [
            "ber\n",
            "best\n"
          ]
        }
      ]
    },
    {
      "cell_type": "code",
      "source": [
        "#TASK 05\n",
        "Word = input()\n",
        "Lenth = len(Word)\n",
        "for row in range(Lenth):\n",
        "  for col in range(row+1):\n",
        "    print(Word[col],end =\"\")\n",
        "  print()"
      ],
      "metadata": {
        "colab": {
          "base_uri": "https://localhost:8080/"
        },
        "id": "wrMUZfIs-XiQ",
        "outputId": "40b2dd7b-793b-49f9-9ef0-fbcdcdc751d7"
      },
      "execution_count": null,
      "outputs": [
        {
          "output_type": "stream",
          "name": "stdout",
          "text": [
            "Python\n",
            "P\n",
            "Py\n",
            "Pyt\n",
            "Pyth\n",
            "Pytho\n",
            "Python\n"
          ]
        }
      ]
    },
    {
      "cell_type": "code",
      "source": [
        "#TASK 06\n",
        "Word = input()\n",
        "Lenth = len(Word)\n",
        "for i in range(Lenth):\n",
        "   Let = Word[i]\n",
        "   print(Let,\":\",ord(Let))\n",
        "   print()"
      ],
      "metadata": {
        "id": "Ubm1xHNRCEXK",
        "colab": {
          "base_uri": "https://localhost:8080/"
        },
        "outputId": "3164b26e-a698-40f4-fdf5-f0431e2dc79d"
      },
      "execution_count": null,
      "outputs": [
        {
          "output_type": "stream",
          "name": "stdout",
          "text": [
            "Program\n",
            "P : 80\n",
            "\n",
            "r : 114\n",
            "\n",
            "o : 111\n",
            "\n",
            "g : 103\n",
            "\n",
            "r : 114\n",
            "\n",
            "a : 97\n",
            "\n",
            "m : 109\n",
            "\n"
          ]
        }
      ]
    },
    {
      "cell_type": "code",
      "source": [
        "#TASK 07\n",
        "word = input().lower()\n",
        "lenth = len(word)\n",
        "for i in range(lenth):\n",
        "    print(chr(ord(word[i])+1),end=\"\")"
      ],
      "metadata": {
        "colab": {
          "base_uri": "https://localhost:8080/"
        },
        "id": "oiGc-2OwOI4j",
        "outputId": "96966240-84be-4a78-bb2c-62ae60df1f2f"
      },
      "execution_count": null,
      "outputs": [
        {
          "output_type": "stream",
          "name": "stdout",
          "text": [
            "AbCde\n",
            "bcdef"
          ]
        }
      ]
    },
    {
      "cell_type": "code",
      "source": [
        "#TASK 08\n",
        "word = input()\n",
        "lenth = len(word)\n",
        "for i in range(lenth):\n",
        "   if(i%2!=0):\n",
        "     print(word[i].upper(),end =\"\")"
      ],
      "metadata": {
        "colab": {
          "base_uri": "https://localhost:8080/"
        },
        "id": "K0to8HLRRLAp",
        "outputId": "47a16539-025e-42c7-ec12-00c0253edbcd"
      },
      "execution_count": null,
      "outputs": [
        {
          "name": "stdout",
          "output_type": "stream",
          "text": [
            "string\n"
          ]
        }
      ]
    },
    {
      "cell_type": "code",
      "source": [
        "#TASK 08 alter\n",
        "word = input()\n",
        "count=1\n",
        "C_word=\"\"\n",
        "for i in word:\n",
        "  if count%2 ==0 and 97<=ord(i)<=122:\n",
        "    Eq = ord(i)\n",
        "    Meq= Eq-32\n",
        "    C_word +=chr(Meq)\n",
        "  elif(count%2 ==0 and 65<=ord(i)<=90):\n",
        "    C_word+=i\n",
        "  else:\n",
        "    pass\n",
        "  count+=1\n",
        "print(C_word)"
      ],
      "metadata": {
        "id": "DpHd9iZwfmBn"
      },
      "execution_count": null,
      "outputs": []
    },
    {
      "cell_type": "code",
      "source": [
        "#TASK 09\n",
        "word = input()\n",
        "copy = ''\n",
        "for i in word:\n",
        "  if copy == '' or i != copy[len(copy)-1]:\n",
        "    copy = copy + i\n",
        "print(copy)"
      ],
      "metadata": {
        "colab": {
          "base_uri": "https://localhost:8080/"
        },
        "id": "_hrEHockGYC4",
        "outputId": "d85c750b-be6e-42df-faae-702274721e57"
      },
      "execution_count": null,
      "outputs": [
        {
          "output_type": "stream",
          "name": "stdout",
          "text": [
            "AAAAAAAbBBBBcC\n",
            "AbBcC\n"
          ]
        }
      ]
    },
    {
      "cell_type": "code",
      "source": [
        "#TASK10\n",
        "word = input()\n",
        "Bl =\"\"\n",
        "Sl = \"\"\n",
        "count=0\n",
        "var = \"\"\n",
        "p = 0\n",
        "for i in word:\n",
        "  if i==\",\":\n",
        "    break\n",
        "  else:\n",
        "    Bl+=i\n",
        "    count+=1\n",
        "for j in word[count+1::]:\n",
        "    Sl += j\n",
        "lenth1 = len(Bl)\n",
        "lenth2 = len(Sl)\n",
        "\n",
        "while True:\n",
        "  if p <lenth1 and p<lenth2:\n",
        "    var += Bl[p]+Sl[p]\n",
        "    p +=1\n",
        "  else:\n",
        "    break\n",
        "if (lenth1<lenth2): var+=Sl[p::]\n",
        "else:  var+=Bl[p::]\n",
        "print(var)"
      ],
      "metadata": {
        "colab": {
          "base_uri": "https://localhost:8080/"
        },
        "id": "SymgtMDhmArF",
        "outputId": "62c4e23d-c4db-4e63-c2f9-f482971bbdfe"
      },
      "execution_count": null,
      "outputs": [
        {
          "output_type": "stream",
          "name": "stdout",
          "text": [
            "AAAAAA,abcd\n",
            "samn,hda\n",
            "shadman\n"
          ]
        }
      ]
    },
    {
      "cell_type": "code",
      "source": [
        "#TASK 11\n",
        "i = 10\n",
        "while(i >= -20):\n",
        "    if(i < 0):\n",
        "        test = \" != \"\n",
        "        test = str(i//2) + test + str(int(i/2))\n",
        "    else:\n",
        "        test = \" == \"\n",
        "        test = str(i//2) + test + str(int(i/2))\n",
        "    print(\"test = \",test)\n",
        "    i -= 5\n",
        "    print(\"i = \",i)"
      ],
      "metadata": {
        "colab": {
          "base_uri": "https://localhost:8080/"
        },
        "id": "RU9mkJXL2lsb",
        "outputId": "bd806f18-17d5-439d-ea05-325e8a51448b"
      },
      "execution_count": null,
      "outputs": [
        {
          "output_type": "stream",
          "name": "stdout",
          "text": [
            "test =  5 == 5\n",
            "i =  5\n",
            "test =  2 == 2\n",
            "i =  0\n",
            "test =  0 == 0\n",
            "i =  -5\n",
            "test =  -3 != -2\n",
            "i =  -10\n",
            "test =  -5 != -5\n",
            "i =  -15\n",
            "test =  -8 != -7\n",
            "i =  -20\n",
            "test =  -10 != -10\n",
            "i =  -25\n"
          ]
        }
      ]
    },
    {
      "cell_type": "code",
      "source": [
        "#TASK 12\n",
        "test = \"\"\n",
        "i = 0\n",
        "j = 0\n",
        "k = 15\n",
        "test = \"-->\"\n",
        "while i < 5:\n",
        "    j = k - 1\n",
        "    print(\"j = \",j)\n",
        "    k -= 1\n",
        "    print(\"k = \",k)\n",
        "    while j > 10:\n",
        "        test = str(i + j) + \"-->\" + test\n",
        "        print(test)\n",
        "        j -= 1\n",
        "        print(\"j = \",j)\n",
        "    i += 1\n",
        "    print(\"i =\",i)"
      ],
      "metadata": {
        "colab": {
          "base_uri": "https://localhost:8080/"
        },
        "id": "ucfLFqQD3jcc",
        "outputId": "e0227d8e-3b91-47ba-f143-dc5fee600d75"
      },
      "execution_count": null,
      "outputs": [
        {
          "output_type": "stream",
          "name": "stdout",
          "text": [
            "j =  14\n",
            "k =  14\n",
            "14-->-->\n",
            "j =  13\n",
            "13-->14-->-->\n",
            "j =  12\n",
            "12-->13-->14-->-->\n",
            "j =  11\n",
            "11-->12-->13-->14-->-->\n",
            "j =  10\n",
            "i = 1\n",
            "j =  13\n",
            "k =  13\n",
            "14-->11-->12-->13-->14-->-->\n",
            "j =  12\n",
            "13-->14-->11-->12-->13-->14-->-->\n",
            "j =  11\n",
            "12-->13-->14-->11-->12-->13-->14-->-->\n",
            "j =  10\n",
            "i = 2\n",
            "j =  12\n",
            "k =  12\n",
            "14-->12-->13-->14-->11-->12-->13-->14-->-->\n",
            "j =  11\n",
            "13-->14-->12-->13-->14-->11-->12-->13-->14-->-->\n",
            "j =  10\n",
            "i = 3\n",
            "j =  11\n",
            "k =  11\n",
            "14-->13-->14-->12-->13-->14-->11-->12-->13-->14-->-->\n",
            "j =  10\n",
            "i = 4\n",
            "j =  10\n",
            "k =  10\n",
            "i = 5\n"
          ]
        }
      ]
    },
    {
      "cell_type": "code",
      "source": [
        "#TASK 13\n",
        "test = \"\"\n",
        "i = 5\n",
        "j = 0\n",
        "k = 15\n",
        "while i< 10:\n",
        "    k-=1\n",
        "    print(\"k =\",k)\n",
        "    j = k\n",
        "    print(\"j =\",j)\n",
        "    while j > 10:\n",
        "        if (j % 2) == 0:\n",
        "            test = \"<--\"\n",
        "            test = str(test) + str(i) + str(2) + \"-->\" + str(int(j / 2))\n",
        "        else:\n",
        "            test = \"-->\"\n",
        "            test = \"-->\" + str(int(i / 2)) + str(test) + str(j)\n",
        "        print(test)\n",
        "        j = j-1\n",
        "        print(\"j =\",j)\n",
        "    i+=1\n",
        "    print(\"i =\",i)\n",
        "\n"
      ],
      "metadata": {
        "colab": {
          "base_uri": "https://localhost:8080/"
        },
        "id": "GkfNERzs4K0O",
        "outputId": "11369c8e-cdcc-47e5-f219-6e6a0448773f"
      },
      "execution_count": null,
      "outputs": [
        {
          "output_type": "stream",
          "name": "stdout",
          "text": [
            "k = 14\n",
            "j = 14\n",
            "<--52-->7\n",
            "j = 13\n",
            "-->2-->13\n",
            "j = 12\n",
            "<--52-->6\n",
            "j = 11\n",
            "-->2-->11\n",
            "j = 10\n",
            "i = 6\n",
            "k = 13\n",
            "j = 13\n",
            "-->3-->13\n",
            "j = 12\n",
            "<--62-->6\n",
            "j = 11\n",
            "-->3-->11\n",
            "j = 10\n",
            "i = 7\n",
            "k = 12\n",
            "j = 12\n",
            "<--72-->6\n",
            "j = 11\n",
            "-->3-->11\n",
            "j = 10\n",
            "i = 8\n",
            "k = 11\n",
            "j = 11\n",
            "-->4-->11\n",
            "j = 10\n",
            "i = 9\n",
            "k = 10\n",
            "j = 10\n",
            "i = 10\n"
          ]
        }
      ]
    },
    {
      "cell_type": "code",
      "source": [
        "#TASK 14\n",
        "test = \"\"\n",
        "i = 5\n",
        "j = 0\n",
        "k = 15\n",
        "while (i< 10):\n",
        "    k-=1\n",
        "    print(\"k =\",k)\n",
        "    j = k\n",
        "    print(\"j =\",j)\n",
        "    while (j > 10 ):\n",
        "        if j % 2 == 0:\n",
        "            test = \"<--\"\n",
        "            test = test + str( i) + '3' + \"-->\" + str(j // 3)\n",
        "        else:\n",
        "            test = \"-->\"\n",
        "            test = \"-->\" + str((i // 3)) + test + str(j)\n",
        "        print(test)\n",
        "        j -=1\n",
        "        print(\"j =\",j)\n",
        "    i+=1\n",
        "    print(\"i =\",i)\n",
        "\n"
      ],
      "metadata": {
        "colab": {
          "base_uri": "https://localhost:8080/"
        },
        "id": "DN6KsfVqGrCH",
        "outputId": "c27aadb8-a785-4375-eee7-b3d28a2453e0"
      },
      "execution_count": null,
      "outputs": [
        {
          "output_type": "stream",
          "name": "stdout",
          "text": [
            "k = 14\n",
            "j = 14\n",
            "<--53-->4\n",
            "j = 13\n",
            "-->1-->13\n",
            "j = 12\n",
            "<--53-->4\n",
            "j = 11\n",
            "-->1-->11\n",
            "j = 10\n",
            "i = 6\n",
            "k = 13\n",
            "j = 13\n",
            "-->2-->13\n",
            "j = 12\n",
            "<--63-->4\n",
            "j = 11\n",
            "-->2-->11\n",
            "j = 10\n",
            "i = 7\n",
            "k = 12\n",
            "j = 12\n",
            "<--73-->4\n",
            "j = 11\n",
            "-->2-->11\n",
            "j = 10\n",
            "i = 8\n",
            "k = 11\n",
            "j = 11\n",
            "-->2-->11\n",
            "j = 10\n",
            "i = 9\n",
            "k = 10\n",
            "j = 10\n",
            "i = 10\n"
          ]
        }
      ]
    },
    {
      "cell_type": "code",
      "source": [
        "#TASK 15\n",
        "i=0\n",
        "j=0\n",
        "k=15\n",
        "test = '<--cat'\n",
        "while i < 5:\n",
        "    k -= 1\n",
        "    print(\"k =\",k)\n",
        "    j = k\n",
        "    print(\"j =\",j)\n",
        "    while j > 10:\n",
        "        if j % 2 == 0:\n",
        "            test += '-->'\n",
        "            test = test + str(i) + str(j // 2)\n",
        "        else:\n",
        "            test += '<--'\n",
        "            test = test + str(i // 2) + str(j)\n",
        "        print(test)\n",
        "        j-=1\n",
        "        print(\"j =\",j)\n",
        "    i+=1\n",
        "    print(\"i =\",i)\n",
        "\n"
      ],
      "metadata": {
        "colab": {
          "base_uri": "https://localhost:8080/"
        },
        "id": "Es9Pgq4tH2q5",
        "outputId": "30831db9-f611-499c-9a49-184ad41ef87e"
      },
      "execution_count": null,
      "outputs": [
        {
          "output_type": "stream",
          "name": "stdout",
          "text": [
            "k = 14\n",
            "j = 14\n",
            "<--cat-->07\n",
            "j = 13\n",
            "<--cat-->07<--013\n",
            "j = 12\n",
            "<--cat-->07<--013-->06\n",
            "j = 11\n",
            "<--cat-->07<--013-->06<--011\n",
            "j = 10\n",
            "i = 1\n",
            "k = 13\n",
            "j = 13\n",
            "<--cat-->07<--013-->06<--011<--013\n",
            "j = 12\n",
            "<--cat-->07<--013-->06<--011<--013-->16\n",
            "j = 11\n",
            "<--cat-->07<--013-->06<--011<--013-->16<--011\n",
            "j = 10\n",
            "i = 2\n",
            "k = 12\n",
            "j = 12\n",
            "<--cat-->07<--013-->06<--011<--013-->16<--011-->26\n",
            "j = 11\n",
            "<--cat-->07<--013-->06<--011<--013-->16<--011-->26<--111\n",
            "j = 10\n",
            "i = 3\n",
            "k = 11\n",
            "j = 11\n",
            "<--cat-->07<--013-->06<--011<--013-->16<--011-->26<--111<--111\n",
            "j = 10\n",
            "i = 4\n",
            "k = 10\n",
            "j = 10\n",
            "i = 5\n"
          ]
        }
      ]
    }
  ]
}