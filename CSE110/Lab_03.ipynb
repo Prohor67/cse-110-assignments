{
  "nbformat": 4,
  "nbformat_minor": 0,
  "metadata": {
    "colab": {
      "provenance": []
    },
    "kernelspec": {
      "name": "python3",
      "display_name": "Python 3"
    },
    "language_info": {
      "name": "python"
    }
  },
  "cells": [
    {
      "cell_type": "code",
      "execution_count": null,
      "metadata": {
        "colab": {
          "base_uri": "https://localhost:8080/"
        },
        "id": "hJdCDgLU2sfY",
        "outputId": "130cdeb3-27c3-4fc8-9db3-ac0bfa0dc5f3"
      },
      "outputs": [
        {
          "output_type": "stream",
          "name": "stdout",
          "text": [
            "24,18,12,6,0,-6"
          ]
        }
      ],
      "source": [
        " #TASK 01(A)\n",
        "counter = 24\n",
        "while counter>=-6:\n",
        "    if(counter == -6):\n",
        "      print(counter, end = \"\")\n",
        "    else:\n",
        "      print(counter, end = \",\")\n",
        "\n",
        "    counter = counter - 6"
      ]
    },
    {
      "cell_type": "code",
      "source": [
        "num = 0\n",
        "while(num<10):\n",
        "  num = num+1\n",
        "  print(num,end=\" \")"
      ],
      "metadata": {
        "colab": {
          "base_uri": "https://localhost:8080/"
        },
        "id": "wUuZHeuL1CjW",
        "outputId": "2657c878-4368-499b-d00a-952fae9da140"
      },
      "execution_count": null,
      "outputs": [
        {
          "output_type": "stream",
          "name": "stdout",
          "text": [
            "1 2 3 4 5 6 7 8 9 10 "
          ]
        }
      ]
    },
    {
      "cell_type": "code",
      "source": [
        "#TASK 01(A)\n",
        "counter = -6\n",
        "while counter<=24:\n",
        "    if(counter == 24):\n",
        "      print(counter, end = \"\")\n",
        "    else:\n",
        "      print(counter, end = \",\")\n",
        "\n",
        "    counter = counter + 6"
      ],
      "metadata": {
        "colab": {
          "base_uri": "https://localhost:8080/"
        },
        "id": "VvTYAukEcTD0",
        "outputId": "b1eb6d50-e7b7-43e3-d0f3-9aba6799427b"
      },
      "execution_count": null,
      "outputs": [
        {
          "output_type": "stream",
          "name": "stdout",
          "text": [
            "-6,0,6,12,18,24"
          ]
        }
      ]
    },
    {
      "cell_type": "code",
      "source": [
        "#TASK 01(B)\n",
        "counter = -10\n",
        "while (counter<=20):\n",
        "    if(counter == 20):\n",
        "      print(counter, end= \"\")\n",
        "    else:\n",
        "      print(counter, end = \",\")\n",
        "\n",
        "    counter += 5"
      ],
      "metadata": {
        "colab": {
          "base_uri": "https://localhost:8080/"
        },
        "id": "X7C69E9o5EsG",
        "outputId": "2d2ab2fc-cb21-45fe-efe4-8e04ade75aa2"
      },
      "execution_count": null,
      "outputs": [
        {
          "output_type": "stream",
          "name": "stdout",
          "text": [
            "-10,-5,0,5,10,15,20"
          ]
        }
      ]
    },
    {
      "cell_type": "code",
      "source": [
        "#TASK 01(C)\n",
        "counter = 18\n",
        "while(counter<=63):\n",
        "  if(counter == 63):\n",
        "    print(counter, end=\"\")\n",
        "  else:\n",
        "    print(counter, end=\",\")\n",
        "\n",
        "  counter +=9"
      ],
      "metadata": {
        "colab": {
          "base_uri": "https://localhost:8080/"
        },
        "id": "NcUGUwiO5yFy",
        "outputId": "ef406892-ce95-4f3a-bce6-57d7044df334"
      },
      "execution_count": null,
      "outputs": [
        {
          "output_type": "stream",
          "name": "stdout",
          "text": [
            "18,27,36,45,54,63"
          ]
        }
      ]
    },
    {
      "cell_type": "code",
      "source": [
        "#TASK 01(D)\n",
        "counter = 18\n",
        "while(counter<=63):\n",
        "  if(counter%2 != 0):\n",
        "    if(counter == 63):\n",
        "      print(counter*(-1),end=\"\")\n",
        "    else:\n",
        "      print(counter*(-1),end=\",\" )\n",
        "  else:\n",
        "     print(counter,end=\",\" )\n",
        "\n",
        "  counter +=9"
      ],
      "metadata": {
        "colab": {
          "base_uri": "https://localhost:8080/"
        },
        "id": "-zrSVJcE6Qg2",
        "outputId": "0bdccdbf-b616-44ec-d0d5-1e3092e114ad"
      },
      "execution_count": null,
      "outputs": [
        {
          "output_type": "stream",
          "name": "stdout",
          "text": [
            "18,-27,36,-45,54,-63"
          ]
        }
      ]
    },
    {
      "cell_type": "code",
      "source": [
        "#TASK 02\n",
        "Car = input(\"please enter the name of the car \")\n",
        "Num = int(input(\"please enter the number \"))\n",
        "\n",
        "counter = 1\n",
        "while(counter<=Num):\n",
        "  print(Car)\n",
        "  counter+=1"
      ],
      "metadata": {
        "colab": {
          "base_uri": "https://localhost:8080/"
        },
        "id": "NI75r2nN8gUh",
        "outputId": "b4fd8b7c-e84e-4713-b7f5-3d8ac3ad865a"
      },
      "execution_count": null,
      "outputs": [
        {
          "output_type": "stream",
          "name": "stdout",
          "text": [
            "please enter the name of the car Veron\n",
            "please enter the number 5\n",
            "Veron\n",
            "Veron\n",
            "Veron\n",
            "Veron\n",
            "Veron\n"
          ]
        }
      ]
    },
    {
      "cell_type": "code",
      "source": [
        "#TASK 03\n",
        "counter = 63\n",
        "sum = 0\n",
        "while(counter<=600):\n",
        "  if(counter % 7 == 0 and counter % 9 == 0):\n",
        "    sum = sum+counter\n",
        "  counter+=1\n",
        "print(sum)\n",
        ""
      ],
      "metadata": {
        "colab": {
          "base_uri": "https://localhost:8080/"
        },
        "id": "alULYk189bSu",
        "outputId": "b62a9c14-7beb-42a9-c3c1-ef0d81202a2a"
      },
      "execution_count": null,
      "outputs": [
        {
          "output_type": "stream",
          "name": "stdout",
          "text": [
            "2835\n"
          ]
        }
      ]
    },
    {
      "cell_type": "code",
      "source": [
        "#TASK 04\n",
        "counter = 7\n",
        "sum = 0\n",
        "while(counter<=600):\n",
        "  if((counter % 7 == 0 or counter % 9 == 0) and (counter % 63 != 0)):\n",
        "    sum = sum+counter\n",
        "  counter+=1\n",
        "print(sum)"
      ],
      "metadata": {
        "colab": {
          "base_uri": "https://localhost:8080/"
        },
        "id": "6WrpIj79Cm2S",
        "outputId": "f91311fe-1f58-4daf-a162-7f5105332ee8"
      },
      "execution_count": null,
      "outputs": [
        {
          "output_type": "stream",
          "name": "stdout",
          "text": [
            "39814\n"
          ]
        }
      ]
    },
    {
      "cell_type": "code",
      "source": [
        "#TASK 05\n",
        "counter = 11\n",
        "while(10<counter<50):\n",
        "  if(counter%2 !=0):\n",
        "    print(counter,end =\" \")\n",
        "  counter += 1"
      ],
      "metadata": {
        "colab": {
          "base_uri": "https://localhost:8080/"
        },
        "id": "z8Re6Qk2GCcX",
        "outputId": "e47263bc-ca1e-461f-cf4a-5e062e890342"
      },
      "execution_count": null,
      "outputs": [
        {
          "output_type": "stream",
          "name": "stdout",
          "text": [
            "11 13 15 17 19 21 23 25 27 29 31 33 35 37 39 41 43 45 47 49 "
          ]
        }
      ]
    },
    {
      "cell_type": "code",
      "source": [
        "#TASK 06\n",
        "num = int(input())\n",
        "sum = 0\n",
        "for i in range(1,num+1,1):\n",
        "  if(i%2 != 0):\n",
        "    sum += i**2\n",
        "  else:\n",
        "    sum += (i**2)*(-1)\n",
        "print(\"Y=\",sum)\n"
      ],
      "metadata": {
        "colab": {
          "base_uri": "https://localhost:8080/"
        },
        "id": "-CFFmtT7G8uI",
        "outputId": "244e31dd-4bff-4cbf-f83e-399aac3f3c23"
      },
      "execution_count": null,
      "outputs": [
        {
          "output_type": "stream",
          "name": "stdout",
          "text": [
            "5\n",
            "Y= 15\n"
          ]
        }
      ]
    },
    {
      "cell_type": "code",
      "source": [
        "#TASK 07\n",
        "Odd_Num = 0\n",
        "counter = 1\n",
        "Odd_count = 0\n",
        "while(counter<=10):\n",
        "  Num = int(input())\n",
        "  if(Num%2 != 0):\n",
        "    Odd_Num += Num\n",
        "    Odd_count +=1\n",
        "  counter +=1\n",
        "print(Odd_Num)\n",
        "print(Odd_Num/Odd_count)\n",
        "\n",
        "\n"
      ],
      "metadata": {
        "colab": {
          "base_uri": "https://localhost:8080/"
        },
        "id": "N8SRRtAFJqau",
        "outputId": "6016e61b-1e00-4e39-8b49-a5afc42e6090"
      },
      "execution_count": null,
      "outputs": [
        {
          "output_type": "stream",
          "name": "stdout",
          "text": [
            "1\n",
            "2\n",
            "3\n",
            "4\n",
            "5\n",
            "6\n",
            "7\n",
            "8\n",
            "9\n",
            "10\n",
            "25\n",
            "5.0\n"
          ]
        }
      ]
    },
    {
      "cell_type": "code",
      "source": [
        "#TASK 08\n",
        "Num = int(input())\n",
        "sum = 0\n",
        "for i in range(0,Num):\n",
        "  if(i%7 == 0):\n",
        "    sum += i\n",
        "print(sum)"
      ],
      "metadata": {
        "colab": {
          "base_uri": "https://localhost:8080/"
        },
        "id": "jjT5Mu6SafmY",
        "outputId": "4a2eac9d-d542-4af1-afe4-c1942bf6d3de"
      },
      "execution_count": null,
      "outputs": [
        {
          "output_type": "stream",
          "name": "stdout",
          "text": [
            "50\n",
            "196\n"
          ]
        }
      ]
    },
    {
      "cell_type": "code",
      "source": [
        "#TASK 09\n",
        "sum = 0\n",
        "for i in range(0,5):\n",
        "  num = int(input())\n",
        "  sum += num\n",
        "  print(sum)\n",
        "\n"
      ],
      "metadata": {
        "colab": {
          "base_uri": "https://localhost:8080/"
        },
        "id": "lmIH2SMbDbVn",
        "outputId": "23586b03-2c80-4fec-8274-591d26d389b0"
      },
      "execution_count": null,
      "outputs": [
        {
          "output_type": "stream",
          "name": "stdout",
          "text": [
            "1\n",
            "1\n",
            "2\n",
            "3\n",
            "3\n",
            "6\n",
            "4\n",
            "10\n",
            "5\n",
            "15\n"
          ]
        }
      ]
    },
    {
      "cell_type": "code",
      "source": [
        "#TASK 10\n",
        "num = int(input())\n",
        "\n",
        "while(num!=0):\n",
        "  Rev = num%10\n",
        "  num = num//10\n",
        "  if(num == 0):\n",
        "    print(Rev, end =\"\")\n",
        "  else:\n",
        "    print(Rev,end =\",\")"
      ],
      "metadata": {
        "colab": {
          "base_uri": "https://localhost:8080/"
        },
        "id": "8Np9r4JFI4ZG",
        "outputId": "9bbedaec-bce7-4591-a297-69c33a9187e5"
      },
      "execution_count": null,
      "outputs": [
        {
          "output_type": "stream",
          "name": "stdout",
          "text": [
            "6875438\n",
            "8,3,4,5,7,8,6"
          ]
        }
      ]
    },
    {
      "cell_type": "code",
      "source": [
        "#TASK 11\n",
        "num = int(input())\n",
        "counter = 0\n",
        "while(num != 0):\n",
        "  num = num//10\n",
        "  counter+=1\n",
        "print(counter)\n",
        "\n"
      ],
      "metadata": {
        "id": "jgGQ4tpEMSls"
      },
      "execution_count": null,
      "outputs": []
    },
    {
      "cell_type": "code",
      "source": [
        "#TASK 12\n",
        "num = int(input())\n",
        "Dup_num = num\n",
        "counter = 0\n",
        "i =1\n",
        "while(num != 0):\n",
        "  num = num//10\n",
        "  counter+=1\n",
        "while(i != 0):\n",
        "  pow = 10**(counter-1)\n",
        "  Digit = Dup_num//pow\n",
        "  Dup_num = Dup_num%pow\n",
        "  counter -=1\n",
        "  i = pow//10\n",
        "  if(i == 0):\n",
        "    print(Digit,end =\" \")\n",
        "  else:\n",
        "     print(Digit,end =\",\")\n",
        ""
      ],
      "metadata": {
        "id": "cBeH-3bFQTP2",
        "colab": {
          "base_uri": "https://localhost:8080/"
        },
        "outputId": "34b1f1d5-f155-40f2-b7ba-817bfaafba2b"
      },
      "execution_count": null,
      "outputs": [
        {
          "output_type": "stream",
          "name": "stdout",
          "text": [
            "1234\n",
            "1,2,3,4 "
          ]
        }
      ]
    },
    {
      "cell_type": "code",
      "source": [
        "\n",
        "\n",
        "#TASK 13\n",
        "Num = int(input())\n",
        "counter = 0\n",
        "for i in range(1,Num+1):\n",
        "  if( Num%i == 0):\n",
        "    counter +=1\n",
        "    print(i, end = \" \")\n",
        "\n",
        "print()\n",
        "print(Num,\"has total\",counter,\"divisors\")"
      ],
      "metadata": {
        "id": "bJLK-Kr80R5k"
      },
      "execution_count": null,
      "outputs": []
    },
    {
      "cell_type": "code",
      "source": [
        "#TASK 14\n",
        "Num = int(input())\n",
        "dup_num = 0\n",
        "for i in range(1,Num+1):\n",
        "  if( Num%i == 0):\n",
        "    dup_num +=i\n",
        "if(dup_num-Num == Num):\n",
        "  print(Num,\" is a perfect number\")\n",
        "else:\n",
        "  print(Num,\"is not a perfect number\")\n",
        "\n",
        "\n",
        ""
      ],
      "metadata": {
        "id": "X3B9HHXS1dxg",
        "colab": {
          "base_uri": "https://localhost:8080/"
        },
        "outputId": "c5932843-8b6e-4a4e-8fc8-ba1e776c09a5"
      },
      "execution_count": null,
      "outputs": [
        {
          "output_type": "stream",
          "name": "stdout",
          "text": [
            "8\n",
            "8 is not a perfect number\n"
          ]
        }
      ]
    },
    {
      "cell_type": "code",
      "source": [
        "#TASK 15\n",
        "Num = int(input())\n",
        "counter = 0\n",
        "for i in range(1,Num+1):\n",
        "  if( Num%i == 0):\n",
        "    counter +=1\n",
        "if (counter == 2):\n",
        "  print(Num,\"is a prime a number\")\n",
        "else:\n",
        "  print(Num,\"is not a prime number\")"
      ],
      "metadata": {
        "colab": {
          "base_uri": "https://localhost:8080/"
        },
        "id": "abBginbI2lou",
        "outputId": "b5c09947-8c59-4330-fdf5-54a517b65907"
      },
      "execution_count": null,
      "outputs": [
        {
          "output_type": "stream",
          "name": "stdout",
          "text": [
            "6\n",
            "6 is not a prime number\n"
          ]
        }
      ]
    },
    {
      "cell_type": "code",
      "source": [
        "#TASK 16\n",
        "num = int(input())\n",
        "sum = 0\n",
        "for i in range(1,num+1):\n",
        "  CNum = int(input())\n",
        "  if (i == 1):\n",
        "    Max = CNum\n",
        "    Min = CNum\n",
        "  else:\n",
        "    if(CNum>Max):\n",
        "      Max = CNum\n",
        "    elif(CNum<Min):\n",
        "      Min = CNum\n",
        "  sum +=CNum\n",
        "print(\"MAXIMUM = \",Max)\n",
        "print(\"MINIMUM = \",Min)\n",
        "print(\"AVERAGE = \",sum/num)\n"
      ],
      "metadata": {
        "colab": {
          "base_uri": "https://localhost:8080/"
        },
        "id": "OIm9OhOS36it",
        "outputId": "fc0b9061-2ca5-40a0-9740-c9f8487c1806"
      },
      "execution_count": null,
      "outputs": [
        {
          "output_type": "stream",
          "name": "stdout",
          "text": [
            "5\n",
            "7\n",
            "-9\n",
            "34\n",
            "6\n",
            "7\n",
            "MAXIMUM =  34\n",
            "MINIMUM =  -9\n",
            "AVERAGE =  9.0\n"
          ]
        }
      ]
    },
    {
      "cell_type": "code",
      "source": [
        "#TASK 17\n",
        "Num = int(input())\n",
        "for i in range(1,Num+1):\n",
        "  for j in range(1,Num+1):\n",
        "    print(\"+\",end = \" \")\n",
        "  print()"
      ],
      "metadata": {
        "id": "olExvg2c6WPo"
      },
      "execution_count": null,
      "outputs": []
    },
    {
      "cell_type": "code",
      "source": [
        "#TASK 18\n",
        "Row = int(input())\n",
        "Col = int(input())\n",
        "for i in range(1,Row+1):\n",
        "  for j in range(1,Col+1):\n",
        "    print(j,end = \"\")\n",
        "  print()\n"
      ],
      "metadata": {
        "colab": {
          "base_uri": "https://localhost:8080/"
        },
        "id": "7URI-EWW7UVm",
        "outputId": "6a89daff-12e5-4526-ca6d-b47378dac14b"
      },
      "execution_count": null,
      "outputs": [
        {
          "output_type": "stream",
          "name": "stdout",
          "text": [
            "4\n",
            "6\n",
            "123456\n",
            "123456\n",
            "123456\n",
            "123456\n"
          ]
        }
      ]
    },
    {
      "cell_type": "code",
      "source": [
        "#TASK 19\n",
        "height = int(input())\n",
        "for i in range(1,height+1):\n",
        "  for j in range(1,i+1):\n",
        "    print(j,end=\"\")\n",
        "  print()\n",
        ""
      ],
      "metadata": {
        "colab": {
          "base_uri": "https://localhost:8080/"
        },
        "id": "hrvyjMa38OwX",
        "outputId": "1ff07e52-8f9a-4190-b57c-3332e9628198"
      },
      "execution_count": null,
      "outputs": [
        {
          "output_type": "stream",
          "name": "stdout",
          "text": [
            "4\n",
            "1\n",
            "12\n",
            "123\n",
            "1234\n"
          ]
        }
      ]
    },
    {
      "cell_type": "code",
      "source": [
        "#TASK 25\n",
        "Num = int(input())\n",
        "n1 = 0\n",
        "n2 = 1\n",
        "sum = 0\n",
        "for i in range(1,Num+1):\n",
        "  if (sum<Num):\n",
        "    print(sum,end=\" \")\n",
        "    n1 = n2\n",
        "    n2 = sum\n",
        "    sum = n1 + n2\n",
        "\n",
        "\n",
        "\n",
        "\n"
      ],
      "metadata": {
        "colab": {
          "base_uri": "https://localhost:8080/"
        },
        "id": "LbEtIBOS9EWz",
        "outputId": "2156e3a4-9c02-4d71-f636-37791e8d0961"
      },
      "execution_count": null,
      "outputs": [
        {
          "output_type": "stream",
          "name": "stdout",
          "text": [
            "10\n",
            "0 1 1 2 3 5 8 "
          ]
        }
      ]
    },
    {
      "cell_type": "code",
      "source": [
        "#TASK 26\n",
        "Num = int(input())\n",
        "Pack = 1\n",
        "Binary = 0\n",
        "while(Num>0):\n",
        "  Binary += (Num%2)*Pack\n",
        "  Num = Num//2\n",
        "  Pack = Pack*10\n",
        "print(Binary,end=\"\")\n",
        ""
      ],
      "metadata": {
        "colab": {
          "base_uri": "https://localhost:8080/"
        },
        "id": "fl-a8TB1B1xQ",
        "outputId": "8922fe20-dda9-424e-a510-f691845bf584"
      },
      "execution_count": null,
      "outputs": [
        {
          "output_type": "stream",
          "name": "stdout",
          "text": [
            "5\n",
            "101"
          ]
        }
      ]
    },
    {
      "cell_type": "code",
      "source": [
        "#TASK 27\n",
        "Num = int(input())\n",
        "Dec = 0\n",
        "i = 0\n",
        "while(Num>0):\n",
        "  Mod = Num%10\n",
        "  Exp = Mod*(2**i)\n",
        "  Dec = Dec + Exp\n",
        "  Num = Num//10\n",
        "  i +=1\n",
        "print(Dec)"
      ],
      "metadata": {
        "colab": {
          "base_uri": "https://localhost:8080/"
        },
        "id": "aCBWEUMMGNEC",
        "outputId": "f9c22242-a74e-4ee6-8645-616e235530a7"
      },
      "execution_count": null,
      "outputs": [
        {
          "output_type": "stream",
          "name": "stdout",
          "text": [
            "101\n",
            "5\n"
          ]
        }
      ]
    },
    {
      "cell_type": "code",
      "source": [
        "#TASK 28\n",
        "#PRIME CALC\n",
        "Num1 = int(input())\n",
        "Num2 = int(input())\n",
        "counter = 0\n",
        "dup_num = 0\n",
        "Perfect_num = 0\n",
        "print(\"Between\",Num1,\"and\",Num2)\n",
        "print(\"prime numbers :\",end = \"\")\n",
        "for i in range(Num1,Num2+1):\n",
        "  if(i%2 != 0):\n",
        "    counter+=1\n",
        "    print(i,end=\" \")\n",
        "print()\n",
        "print(\"There are\",counter,\"prime numbers\")\n",
        "#Perfect calc\n",
        "result = 0\n",
        "print(\"Perfect numbers : \",end = \"\")\n",
        "for num in range(Num1,Num2+1):\n",
        "  result = 0\n",
        "  for i in range(1,num):\n",
        "    if(num%i)==0:\n",
        "      result = result+i\n",
        "\n",
        "  if num == result:\n",
        "     Perfect_num +=1\n",
        "     print(num,end=\" \")\n",
        "print()\n",
        "print(\"Found\",Perfect_num,\"perfect number\")\n",
        "\n",
        "\n"
      ],
      "metadata": {
        "colab": {
          "base_uri": "https://localhost:8080/"
        },
        "id": "rrR1ZPS7MZOr",
        "outputId": "83279632-dd96-4fee-9e4b-91c57a6962a9"
      },
      "execution_count": null,
      "outputs": [
        {
          "output_type": "stream",
          "name": "stdout",
          "text": [
            "2\n",
            "8\n",
            "Between 2 and 8\n",
            "prime numbers :3 5 7 \n",
            "There are 3 prime numbers\n",
            "Perfect numbers : 6 \n",
            "Found 1 perfect number\n"
          ]
        }
      ]
    },
    {
      "cell_type": "code",
      "source": [
        "#TASK 29\n",
        "Num1 = int(input())\n",
        "Num2 = int(input())\n",
        "Num3 = int(input())\n",
        "for i in range(Num1,Num2+1):\n",
        "  Num1[0]*Num1"
      ],
      "metadata": {
        "id": "OrRDq_3XDiin"
      },
      "execution_count": null,
      "outputs": []
    },
    {
      "cell_type": "code",
      "source": [
        "season = \"fall\"\n",
        "print(\"The season is\",season,\"and it is cold\")"
      ],
      "metadata": {
        "colab": {
          "base_uri": "https://localhost:8080/"
        },
        "id": "1pd_TfshwM8E",
        "outputId": "6cd55ec8-7103-444e-8752-01f53712f8e8"
      },
      "execution_count": null,
      "outputs": [
        {
          "output_type": "stream",
          "name": "stdout",
          "text": [
            "The season is fall and it is cold\n"
          ]
        }
      ]
    },
    {
      "cell_type": "code",
      "source": [
        "x = 0\n",
        "p =0\n",
        "sum = 0\n",
        "p = 1\n",
        "x = 2\n",
        "q = None\n",
        "sum = 0\n",
        "while p < 12:\n",
        "    q = x + p - (sum + 7 / 3) / 3.0 % 2\n",
        "    print(\"q = \",q)\n",
        "    sum = sum + x + int(q)\n",
        "    x += 1\n",
        "    print(sum)\n",
        "    print(\"x = \",x)\n",
        "    if x > 5:\n",
        "        p += 4 / 2\n",
        "        print(\"p = \",p)\n",
        "    else:\n",
        "        p += (3 % 1)\n",
        "        print(\"p = \",p)\n",
        "sum = int(sum + p)\n",
        "print(sum)\n",
        "\n",
        "\n",
        "\n",
        "\n"
      ],
      "metadata": {
        "id": "tdp9rgyWx6M3",
        "colab": {
          "base_uri": "https://localhost:8080/"
        },
        "outputId": "cbcaa0aa-369c-40f9-8129-5370669f9b21"
      },
      "execution_count": null,
      "outputs": [
        {
          "output_type": "stream",
          "name": "stdout",
          "text": [
            "q =  2.2222222222222223\n",
            "4\n",
            "x =  3\n",
            "p =  1\n",
            "q =  3.888888888888889\n",
            "10\n",
            "x =  4\n",
            "p =  1\n",
            "q =  4.888888888888888\n",
            "18\n",
            "x =  5\n",
            "p =  1\n",
            "q =  5.222222222222222\n",
            "28\n",
            "x =  6\n",
            "p =  3.0\n",
            "q =  8.88888888888889\n",
            "42\n",
            "x =  7\n",
            "p =  5.0\n",
            "q =  11.222222222222221\n",
            "60\n",
            "x =  8\n",
            "p =  7.0\n",
            "q =  14.222222222222221\n",
            "82\n",
            "x =  9\n",
            "p =  9.0\n",
            "q =  17.88888888888889\n",
            "108\n",
            "x =  10\n",
            "p =  11.0\n",
            "q =  20.22222222222222\n",
            "138\n",
            "x =  11\n",
            "p =  13.0\n",
            "151\n"
          ]
        }
      ]
    },
    {
      "cell_type": "code",
      "source": [
        "x = 0\n",
        "p = 0\n",
        "sum = 0\n",
        "p = 1\n",
        "x = 2\n",
        "q = 0.0\n",
        "sum = 0\n",
        "while (p < 10) :\n",
        "  q = x + p - (sum + int(5 / 3)) / 3.0 % 2\n",
        "  sum = sum + x + int(q)\n",
        "  x += 1\n",
        "  print(\"q = \",q)\n",
        "  print(\"x = \",x)\n",
        "  print(sum)\n",
        "  if (x > 5) :\n",
        "    p += int(4 / 2)\n",
        "    print(\"p = \",p)\n",
        "  else :\n",
        "    p += 3 % 1\n",
        "    print(\"p = \",p)\n",
        "sum = sum + p\n",
        "print(sum)\n",
        "\n",
        "\n"
      ],
      "metadata": {
        "colab": {
          "base_uri": "https://localhost:8080/"
        },
        "id": "07RQivM3Zrb4",
        "outputId": "5b307451-a6a6-44ad-debe-9187ed316256"
      },
      "execution_count": null,
      "outputs": [
        {
          "output_type": "stream",
          "name": "stdout",
          "text": [
            "q =  2.6666666666666665\n",
            "x =  3\n",
            "4\n",
            "p =  1\n",
            "q =  2.333333333333333\n",
            "x =  4\n",
            "9\n",
            "p =  1\n",
            "q =  3.6666666666666665\n",
            "x =  5\n",
            "16\n",
            "p =  1\n",
            "q =  4.333333333333333\n",
            "x =  6\n",
            "25\n",
            "p =  3\n",
            "q =  8.333333333333334\n",
            "x =  7\n",
            "39\n",
            "p =  5\n",
            "q =  10.666666666666666\n",
            "x =  8\n",
            "56\n",
            "p =  7\n",
            "q =  14.0\n",
            "x =  9\n",
            "78\n",
            "p =  9\n",
            "q =  17.666666666666668\n",
            "x =  10\n",
            "104\n",
            "p =  11\n",
            "115\n"
          ]
        }
      ]
    },
    {
      "cell_type": "code",
      "source": [
        "x = y = 0\n",
        "sum = 0\n",
        "while (x < 10):\n",
        "  y = x - 3\n",
        "  print(\"y =\",y)\n",
        "  while (y < 3):\n",
        "    sum = x - y * 2\n",
        "    print(sum)\n",
        "    y = y + 1\n",
        "    print(\"y =\",y)\n",
        "  if (x > 7):\n",
        "    x += 1\n",
        "    print(\"x =\",x)\n",
        "  else:\n",
        "    x += 3\n",
        "    print(\"x =\",x)\n",
        "sum = x - y * 2\n",
        "print(sum)\n",
        "\n"
      ],
      "metadata": {
        "colab": {
          "base_uri": "https://localhost:8080/"
        },
        "id": "lGw1lApK1ZWH",
        "outputId": "6a0ddca5-4f7a-4e15-9484-98eeefd32b0d"
      },
      "execution_count": null,
      "outputs": [
        {
          "output_type": "stream",
          "name": "stdout",
          "text": [
            "y = -3\n",
            "6\n",
            "y = -2\n",
            "4\n",
            "y = -1\n",
            "2\n",
            "y = 0\n",
            "0\n",
            "y = 1\n",
            "-2\n",
            "y = 2\n",
            "-4\n",
            "y = 3\n",
            "x = 3\n",
            "y = 0\n",
            "3\n",
            "y = 1\n",
            "1\n",
            "y = 2\n",
            "-1\n",
            "y = 3\n",
            "x = 6\n",
            "y = 3\n",
            "x = 9\n",
            "y = 6\n",
            "x = 10\n",
            "-2\n"
          ]
        }
      ]
    },
    {
      "cell_type": "code",
      "source": [
        "x = 0\n",
        "y = 0\n",
        "sum = 0\n",
        "p = 0.0\n",
        "while (x < 10):\n",
        "    y = x // 2\n",
        "    print(\"y = \",y)\n",
        "    while (y < x):\n",
        "        p = (x + 10.0) / 2\n",
        "        sum = (sum % 2) + x - y * 2 + int(p)\n",
        "        print(\"p = \",p)\n",
        "        print(\"sum = \",sum)\n",
        "        y = y + 2\n",
        "        print(\"y = \",y)\n",
        "    if (x > 5):\n",
        "        x += 1\n",
        "        print(\"x = \",x)\n",
        "    else:\n",
        "        x += 2\n",
        "        print(\"x = \",x)\n",
        "\n",
        "\n",
        "\n"
      ],
      "metadata": {
        "colab": {
          "base_uri": "https://localhost:8080/"
        },
        "id": "OawhlkJLaD7k",
        "outputId": "94477c75-d070-430c-c477-45b13b29ae93"
      },
      "execution_count": null,
      "outputs": [
        {
          "output_type": "stream",
          "name": "stdout",
          "text": [
            "y =  0\n",
            "x =  2\n",
            "y =  1\n",
            "p =  6.0\n",
            "sum =  6\n",
            "y =  3\n",
            "x =  4\n",
            "y =  2\n",
            "p =  7.0\n",
            "sum =  7\n",
            "y =  4\n",
            "x =  6\n",
            "y =  3\n",
            "p =  8.0\n",
            "sum =  9\n",
            "y =  5\n",
            "p =  8.0\n",
            "sum =  5\n",
            "y =  7\n",
            "x =  7\n",
            "y =  3\n",
            "p =  8.5\n",
            "sum =  10\n",
            "y =  5\n",
            "p =  8.5\n",
            "sum =  5\n",
            "y =  7\n",
            "x =  8\n",
            "y =  4\n",
            "p =  9.0\n",
            "sum =  10\n",
            "y =  6\n",
            "p =  9.0\n",
            "sum =  5\n",
            "y =  8\n",
            "x =  9\n",
            "y =  4\n",
            "p =  9.5\n",
            "sum =  11\n",
            "y =  6\n",
            "p =  9.5\n",
            "sum =  7\n",
            "y =  8\n",
            "p =  9.5\n",
            "sum =  3\n",
            "y =  10\n",
            "x =  10\n"
          ]
        }
      ]
    },
    {
      "cell_type": "code",
      "source": [
        "test = 1\n",
        "j = 0\n",
        "k = 100\n",
        "while (k > 0):\n",
        "  while ( j < k ):\n",
        "    test = k + j -21\n",
        "    print(\"test = \",test)\n",
        "    print(str(1 + int (test / 2)))\n",
        "    j += 10\n",
        "    print(\"j = \",j)\n",
        "  k -= 10\n",
        "  print(\"k = \",k)\n",
        "test = 1\n",
        "print(\"test = \",test)\n",
        "j = 0\n",
        "print(\"j = \",j)\n",
        "k = 100\n",
        "print(\"k = \",k)\n",
        "\n"
      ],
      "metadata": {
        "colab": {
          "base_uri": "https://localhost:8080/"
        },
        "id": "wZp2UGG7hPoC",
        "outputId": "908ab7da-781e-41a2-c74e-22da7ebcecf1"
      },
      "execution_count": null,
      "outputs": [
        {
          "output_type": "stream",
          "name": "stdout",
          "text": [
            "test =  79\n",
            "40\n",
            "j =  10\n",
            "test =  89\n",
            "45\n",
            "j =  20\n",
            "test =  99\n",
            "50\n",
            "j =  30\n",
            "test =  109\n",
            "55\n",
            "j =  40\n",
            "test =  119\n",
            "60\n",
            "j =  50\n",
            "test =  129\n",
            "65\n",
            "j =  60\n",
            "test =  139\n",
            "70\n",
            "j =  70\n",
            "test =  149\n",
            "75\n",
            "j =  80\n",
            "test =  159\n",
            "80\n",
            "j =  90\n",
            "test =  169\n",
            "85\n",
            "j =  100\n",
            "k =  90\n",
            "k =  80\n",
            "k =  70\n",
            "k =  60\n",
            "k =  50\n",
            "k =  40\n",
            "k =  30\n",
            "k =  20\n",
            "k =  10\n",
            "k =  0\n",
            "test =  1\n",
            "j =  0\n",
            "k =  100\n"
          ]
        }
      ]
    },
    {
      "cell_type": "code",
      "source": [
        "mylist = [\"A\",\"B\",\"C\",\"D\"]\n",
        "mylist[1]=\"F\"\n",
        "print(mylist)\n"
      ],
      "metadata": {
        "colab": {
          "base_uri": "https://localhost:8080/"
        },
        "id": "I32llld75HLL",
        "outputId": "09630f56-5849-411a-edb6-f4897f9b07cf"
      },
      "execution_count": null,
      "outputs": [
        {
          "output_type": "stream",
          "name": "stdout",
          "text": [
            "['A', 'F', 'C', 'D']\n"
          ]
        }
      ]
    },
    {
      "cell_type": "code",
      "source": [
        "#PYNATIVE"
      ],
      "metadata": {
        "id": "c355tnobaOo8"
      },
      "execution_count": null,
      "outputs": []
    }
  ]
}