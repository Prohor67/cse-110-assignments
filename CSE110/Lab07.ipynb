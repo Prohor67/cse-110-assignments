{
  "nbformat": 4,
  "nbformat_minor": 0,
  "metadata": {
    "colab": {
      "provenance": []
    },
    "kernelspec": {
      "name": "python3",
      "display_name": "Python 3"
    },
    "language_info": {
      "name": "python"
    }
  },
  "cells": [
    {
      "cell_type": "code",
      "execution_count": null,
      "metadata": {
        "colab": {
          "base_uri": "https://localhost:8080/"
        },
        "id": "Ccf1PXt0eWEZ",
        "outputId": "f58ed837-e041-45c9-a664-66817bef59ed"
      },
      "outputs": [
        {
          "output_type": "stream",
          "name": "stdout",
          "text": [
            "Even!!\n"
          ]
        }
      ],
      "source": [
        "#TASK01\n",
        "def even_checker(num):\n",
        "  if(num%2==0):\n",
        "    print(\"Even!!\")\n",
        "  else:\n",
        "    print(\"Odd!!\")\n",
        "even_checker(6)"
      ]
    },
    {
      "cell_type": "code",
      "source": [
        "#TASK02\n",
        "def fibonacci(num):\n",
        "  n1 = 0\n",
        "  n2 = 1\n",
        "  sum = 0\n",
        "  for i in range(1,num+1):\n",
        "    if (sum<num):\n",
        "      print(sum,end=\" \")\n",
        "      n1 = n2\n",
        "      n2 = sum\n",
        "      sum = n1 + n2\n",
        "\n",
        "fibonacci(10)"
      ],
      "metadata": {
        "colab": {
          "base_uri": "https://localhost:8080/"
        },
        "id": "T2AZLCaLgoNh",
        "outputId": "3893e5d9-b56a-4edf-d9f6-72869f0b5c5c"
      },
      "execution_count": null,
      "outputs": [
        {
          "output_type": "execute_result",
          "data": {
            "text/plain": [
              "0"
            ]
          },
          "metadata": {},
          "execution_count": 10
        }
      ]
    },
    {
      "cell_type": "code",
      "source": [
        "#TASK03\n",
        "def foo_moo(num):\n",
        "  if(num%2==0 and num%3==0):\n",
        "    return\"FooMoo\"\n",
        "  elif(num%2==0) :\n",
        "    return\"Foo\"\n",
        "  elif(num%3==0):\n",
        "    return \"Moo\"\n",
        "  else:\n",
        "    return \"Boo\"\n",
        "print(foo_moo(9))"
      ],
      "metadata": {
        "colab": {
          "base_uri": "https://localhost:8080/"
        },
        "id": "tefkQNwaijLi",
        "outputId": "dfe4b09e-9216-4063-ed3b-cb4768181794"
      },
      "execution_count": null,
      "outputs": [
        {
          "output_type": "stream",
          "name": "stdout",
          "text": [
            "Moo\n"
          ]
        }
      ]
    },
    {
      "cell_type": "code",
      "source": [
        "#TASK04\n",
        "def upper_lower_checker(sentence):\n",
        "  upper = 0\n",
        "  lower = 0\n",
        "  for i in sentence:\n",
        "    if 65<=ord(i)<=90:\n",
        "      upper+=1\n",
        "    elif 97<=ord(i)<=122:\n",
        "      lower+=1\n",
        "  print(\"No. of Uppercase characters:\",upper)\n",
        "  print(\"No. of Lowercase Characters:\",lower)\n",
        "upper_lower_checker('HaRRy PotteR')\n",
        "\n"
      ],
      "metadata": {
        "id": "kkRDliq1i07Q",
        "colab": {
          "base_uri": "https://localhost:8080/"
        },
        "outputId": "ff4c5b69-73c6-475a-a789-2e43df665767"
      },
      "execution_count": null,
      "outputs": [
        {
          "output_type": "stream",
          "name": "stdout",
          "text": [
            "No. of Uppercase characters: 5\n",
            "No. of Lowercase Characters: 6\n"
          ]
        }
      ]
    },
    {
      "cell_type": "code",
      "source": [
        "#TASK05\n",
        "def tax_value(Age,Salary,Job):\n",
        "  tax = 0\n",
        "  if((Age<18) or (Salary<10000) or (Job.lower()==\"president\")):\n",
        "    return 0\n",
        "  elif(10000<=Salary<=20000):\n",
        "    return Salary*0.05\n",
        "  elif(Salary>20000):\n",
        "    return Salary*0.1\n",
        "\n",
        "tax = tax_value(Age = int(input(\"How much money do you make? \")),Salary = int(input(\"How much money do you make? \")),Job = input(\"What's your designation? \"))\n",
        "print(tax)"
      ],
      "metadata": {
        "id": "GhjrUGfJxKVa",
        "colab": {
          "base_uri": "https://localhost:8080/"
        },
        "outputId": "7b10b4f2-644d-4fce-8421-9c96829997e2"
      },
      "execution_count": null,
      "outputs": [
        {
          "output_type": "stream",
          "name": "stdout",
          "text": [
            "What is your age? 53\n",
            "How much money do you make? 31425\n",
            "What's your designation? presidenT\n",
            "0\n"
          ]
        }
      ]
    },
    {
      "cell_type": "code",
      "source": [
        "#TASK06\n",
        "def Year_calc(totaldays):\n",
        "  year = totaldays//365\n",
        "  rem_days = totaldays%365\n",
        "  month = rem_days//30\n",
        "  day = rem_days%30\n",
        "  print(f\"{year} years, {month} months and {day} days\")\n",
        "Year_calc(totaldays = int(input()))\n"
      ],
      "metadata": {
        "id": "hs6dy6J1xLNl"
      },
      "execution_count": null,
      "outputs": []
    },
    {
      "cell_type": "code",
      "source": [
        "#TASK07\n",
        "def show_palindrome(num):\n",
        "  answer =\" \"\n",
        "  for i in range(1,num*2):\n",
        "    if i<= num:\n",
        "      answer+= str(i)\n",
        "    else:\n",
        "      answer+= str((num*2)-i)\n",
        "  return answer\n",
        "print(show_palindrome(5))\n"
      ],
      "metadata": {
        "id": "Mmd7dTbMzq3v",
        "colab": {
          "base_uri": "https://localhost:8080/"
        },
        "outputId": "38ec4d99-1619-4722-a2cd-8393afe944ff"
      },
      "execution_count": null,
      "outputs": [
        {
          "output_type": "stream",
          "name": "stdout",
          "text": [
            " 123454321\n"
          ]
        }
      ]
    },
    {
      "cell_type": "code",
      "source": [
        "#TASK07 ALTER\n",
        "def show_pal(num):\n",
        "  s=\"\"\n",
        "  for i in range(1,num+1):\n",
        "    s+=str(i)\n",
        "  return s+s[-2::-1]\n",
        "print(show_pal(5))"
      ],
      "metadata": {
        "colab": {
          "base_uri": "https://localhost:8080/"
        },
        "id": "Q3oOyXBtwpou",
        "outputId": "da0f2846-2f3c-481a-c08d-662b35cb22fe"
      },
      "execution_count": null,
      "outputs": [
        {
          "output_type": "stream",
          "name": "stdout",
          "text": [
            "123454321\n"
          ]
        }
      ]
    },
    {
      "cell_type": "code",
      "source": [
        "#TASK08\n",
        "def showPalindromicTriangle(number):\n",
        "    for height in range(1,num+1):\n",
        "        for space in range(0,num-height):\n",
        "            print(' ',end=' ')\n",
        "        for i in range(1,height+1):\n",
        "            print(i ,end=' ')\n",
        "        for j in range(height-1,0,-1):\n",
        "            print(j, end=' ')\n",
        "        print()\n",
        "num=int(input('Enter the limit: '))\n",
        "showPalindromicTriangle(num)"
      ],
      "metadata": {
        "colab": {
          "base_uri": "https://localhost:8080/"
        },
        "id": "soktjLw0rVLC",
        "outputId": "e51ddb47-09ce-4106-9b2e-8b2ddc56a636"
      },
      "execution_count": null,
      "outputs": [
        {
          "output_type": "stream",
          "name": "stdout",
          "text": [
            "Enter the limit: 5\n",
            "        1 \n",
            "      1 2 1 \n",
            "    1 2 3 2 1 \n",
            "  1 2 3 4 3 2 1 \n",
            "1 2 3 4 5 4 3 2 1 \n"
          ]
        }
      ]
    },
    {
      "cell_type": "code",
      "source": [
        "#TASK8 ALTER\n",
        "def show_pl_tri(height):\n",
        "  for i in range(1,height+1):\n",
        "    print(\" \"*(height-i),end=\" \")\n",
        "    print(show_palindrome(i))\n",
        "show_pl_tri(5)\n",
        ""
      ],
      "metadata": {
        "colab": {
          "base_uri": "https://localhost:8080/"
        },
        "id": "fFCDlqAnvULt",
        "outputId": "55403b6c-5fe7-4709-f6d1-22d26567ed0a"
      },
      "execution_count": null,
      "outputs": [
        {
          "output_type": "stream",
          "name": "stdout",
          "text": [
            "      1\n",
            "     121\n",
            "    12321\n",
            "   1234321\n",
            "  123454321\n"
          ]
        }
      ]
    },
    {
      "cell_type": "code",
      "source": [
        "#TASK09\n",
        "import math\n",
        "usr_input=float(input('Enter the radius: '))\n",
        "list1=[]\n",
        "\n",
        "def area_circumference_generator(radius):\n",
        "    area=math.pi*(usr_input**2)\n",
        "    list1.append(area)\n",
        "    circumference=2*math.pi*usr_input\n",
        "    list1.append(circumference)\n",
        "    a_tuple=tuple(list1)\n",
        "    a,b=a_tuple\n",
        "    print('Area of the circle is', a,' and circumference is ',b)\n",
        "    return area,circumference\n",
        "print(area_circumference_generator(usr_input))"
      ],
      "metadata": {
        "id": "13eKCYEls6MS",
        "colab": {
          "base_uri": "https://localhost:8080/"
        },
        "outputId": "b5afc237-6f4c-429a-9f86-41e6437ff31e"
      },
      "execution_count": null,
      "outputs": [
        {
          "output_type": "stream",
          "name": "stdout",
          "text": [
            "Enter the radius: 1\n",
            "Area of the circle is 3.141592653589793  and circumference is  6.283185307179586\n",
            "(3.141592653589793, 6.283185307179586)\n"
          ]
        }
      ]
    },
    {
      "cell_type": "code",
      "source": [
        "#TASK10\n",
        "list1=[]\n",
        "num1=int(input('Enter starting number: '))\n",
        "list1.append(num1)\n",
        "num2=int(input('Enter ending number: '))\n",
        "list1.append(num2)\n",
        "a_dict={}\n",
        "\n",
        "a_tuple=tuple(list1)\n",
        "a,b=a_tuple\n",
        "def makeSquare(starting,ending):\n",
        "    for i in range(num1,num2+1):\n",
        "        a=i*i\n",
        "        a_dict[i]=a\n",
        "    return a_dict\n",
        "print(makeSquare(num1,num2))"
      ],
      "metadata": {
        "id": "B4LMk5gytAdg",
        "colab": {
          "base_uri": "https://localhost:8080/"
        },
        "outputId": "afa87a9f-adce-4c81-e7cf-52c4efd3ba49"
      },
      "execution_count": null,
      "outputs": [
        {
          "output_type": "stream",
          "name": "stdout",
          "text": [
            "Enter starting number: 1\n",
            "Enter ending number: 3\n",
            "{1: 1, 2: 4, 3: 9}\n"
          ]
        }
      ]
    },
    {
      "cell_type": "code",
      "source": [
        "#TASK10 ALter\n",
        "def make_square(tup):\n",
        "  f_dict = {}\n",
        "  for i in range(tup[0],tup[1]+1):\n",
        "    f_dict[i]=i**2\n",
        "  return f_dict\n",
        "print(make_square((1,3)))"
      ],
      "metadata": {
        "colab": {
          "base_uri": "https://localhost:8080/"
        },
        "id": "QWfXhL932T1j",
        "outputId": "3fe83da4-9ce7-49d8-8a13-dcaa769f753a"
      },
      "execution_count": null,
      "outputs": [
        {
          "output_type": "stream",
          "name": "stdout",
          "text": [
            "{1: 1, 2: 4, 3: 9}\n"
          ]
        }
      ]
    },
    {
      "cell_type": "code",
      "source": [
        "#TASK11\n",
        "x=(\"Hi\", 1, 2, 3, 3, \"Hi\",'a', 'a', [1,2])\n",
        "def remDuplicate(x):\n",
        "    unique_list=[]\n",
        "    for item in x:\n",
        "        if item not in unique_list:\n",
        "            unique_list.append(item)\n",
        "        else:\n",
        "            continue\n",
        "\n",
        "    a=unique_list\n",
        "    a_tuple=tuple(a)\n",
        "    return a_tuple\n",
        "print(remDuplicate(x))\n"
      ],
      "metadata": {
        "id": "v6eYh1uptGcC",
        "colab": {
          "base_uri": "https://localhost:8080/"
        },
        "outputId": "eca54d0d-2f9c-438e-f7da-84b4eee8f12d"
      },
      "execution_count": null,
      "outputs": [
        {
          "output_type": "stream",
          "name": "stdout",
          "text": [
            "('Hi', 1, 2, 3, 'a', [1, 2])\n"
          ]
        }
      ]
    },
    {
      "cell_type": "code",
      "source": [
        "#TASK12\n",
        "x=[1, 2, 3, 3, 3, 3, 4, 5, 8, 8]\n",
        "list1=[]\n",
        "\n",
        "def mixedlist(lst):\n",
        "    counter=0\n",
        "    for item in x:\n",
        "        if list1.count(item)<2:\n",
        "            list1.append(item)\n",
        "        else:\n",
        "            counter+=1\n",
        "    print('Removed: ',counter)\n",
        "    return list1\n",
        "print(mixedlist(list1))\n"
      ],
      "metadata": {
        "id": "6yxLXHvStMrW",
        "colab": {
          "base_uri": "https://localhost:8080/"
        },
        "outputId": "c613e114-c84e-4d24-848c-847c45159c97"
      },
      "execution_count": null,
      "outputs": [
        {
          "output_type": "stream",
          "name": "stdout",
          "text": [
            "Removed:  2\n",
            "[1, 2, 3, 3, 4, 5, 8, 8]\n"
          ]
        }
      ]
    },
    {
      "cell_type": "code",
      "source": [
        "#TASK13\n",
        "def numfuction(opt,num1,num2):\n",
        "    if opt =='+':\n",
        "        x=num1+num2\n",
        "        return x\n",
        "    elif opt=='-':\n",
        "        x=num1-num2\n",
        "        return x\n",
        "    elif opt=='*':\n",
        "        x=num1*num2\n",
        "        return x\n",
        "    elif opt=='/':\n",
        "        x=num1/num2\n",
        "        return x\n",
        "opt=input('Enter oparetor: ')\n",
        "num1=float(input('Enter 1st number: '))\n",
        "num2=float(input('Enter 2nd number: '))\n",
        "\n",
        "print(numfuction(opt,num1,num2))\n"
      ],
      "metadata": {
        "id": "y_x3X5jetRdm",
        "colab": {
          "base_uri": "https://localhost:8080/"
        },
        "outputId": "4127047d-fc86-454b-ad74-0927cbd480b9"
      },
      "execution_count": null,
      "outputs": [
        {
          "output_type": "stream",
          "name": "stdout",
          "text": [
            "Enter oparetor: +\n",
            "Enter 1st number: 10\n",
            "Enter 2nd number: 20\n",
            "30.0\n"
          ]
        }
      ]
    },
    {
      "cell_type": "code",
      "source": [
        "#TASK14\n",
        "def cuttingcharacters(sentence,position):\n",
        "    temp=''\n",
        "    counter=''\n",
        "    for p in range(0,len(sentence)):\n",
        "        if p!=0 and p%position==0:\n",
        "            temp+=sentence[p]\n",
        "        else:\n",
        "            counter+=sentence[p]\n",
        "\n",
        "    return counter+temp\n",
        "sentence=str(input('Enter sentence: '))\n",
        "position=int(input('Enter position: '))\n",
        "print(cuttingcharacters(sentence,position))\n"
      ],
      "metadata": {
        "id": "A4FavFyKtWTP",
        "colab": {
          "base_uri": "https://localhost:8080/"
        },
        "outputId": "e20e8d7f-e37d-4f46-ae86-902f22b54b0f"
      },
      "execution_count": null,
      "outputs": [
        {
          "output_type": "stream",
          "name": "stdout",
          "text": [
            "Enter sentence: I love programming\n",
            "Enter position: 3\n",
            "I lveprgrmmngo oai\n"
          ]
        }
      ]
    },
    {
      "cell_type": "code",
      "source": [
        "#TASK15\n",
        "def grocery_store(food, destination=\"Dhanmondi\"):\n",
        "    price = {\"Rice\": 105, \"Potato\": 20, \"Chicken\": 250, \"Beef\": 510, \"Oil\": 85}\n",
        "    total = 0\n",
        "    for item in food:\n",
        "        total += price[item]\n",
        "    if destination == \"Dhanmondi\":\n",
        "        total += 30\n",
        "    else:\n",
        "        total += 70\n",
        "    return total\n",
        "\n",
        "\n",
        "food = [item for item in input()[1:-1].replace('\"', \"\").replace(\" \", \"\").split(\",\")]\n",
        "\n",
        "\n",
        "# Function Call\n",
        "print(grocery_store(food))"
      ],
      "metadata": {
        "id": "BZdiY1G_tbwn",
        "colab": {
          "base_uri": "https://localhost:8080/"
        },
        "outputId": "3af5f8ab-c359-4fdc-8add-0815696623b9"
      },
      "execution_count": null,
      "outputs": [
        {
          "output_type": "stream",
          "name": "stdout",
          "text": [
            "[\"Rice\", \"Beef\", \"Rice\"]\n",
            "750\n"
          ]
        }
      ]
    },
    {
      "cell_type": "code",
      "source": [
        "#TASK16\n",
        "amount=int(input('Enter the amount: '))\n",
        "def splittingMoney(money):\n",
        "    note=''\n",
        "    fivehundrd = amount // 500\n",
        "    note1='500 Taka:'\n",
        "    note1+= str(fivehundrd)\n",
        "    note1+=str('note(s)\\n')\n",
        "    temp0 = amount % 500\n",
        "    hundrd = temp0 // 100\n",
        "    note2 ='100 Taka:'\n",
        "    note2 += str(hundrd)\n",
        "    note2 += str('note(s)\\n')\n",
        "    temp1 = temp0 % 100\n",
        "    fifty = temp1 // 50\n",
        "    note3 = '50 Taka:'\n",
        "    note3 += str(fifty)\n",
        "    note3 += str('note(s)\\n')\n",
        "    temp2 = temp1 % 50\n",
        "    twenty = temp2 // 20\n",
        "    note4 = '20 Taka:'\n",
        "    note4 += str(twenty)\n",
        "    note4 += str('note(s)\\n')\n",
        "    temp3 = temp2 % 20\n",
        "    ten = temp3 // 10\n",
        "    note5 = '10 Taka:'\n",
        "    note5 += str(ten)\n",
        "    note5 += str('note(s)\\n')\n",
        "    temp4 = temp3 % 10\n",
        "    five = temp4 // 5\n",
        "    note6 = '5 Taka:'\n",
        "    note6 += str(five)\n",
        "    note6 += str('note(s)\\n')\n",
        "    temp5 = temp4 % 5\n",
        "    two = temp5 // 2\n",
        "    note7 = '2 Taka:'\n",
        "    note7 += str(two)\n",
        "    note7 += str('note(s)\\n')\n",
        "    temp6 = temp5 % 2\n",
        "    one = temp6 // 1\n",
        "    note8 = '1 Taka:'\n",
        "    note8 += str(one)\n",
        "    note8 += str('note(s)\\n')\n",
        "    if fivehundrd != 0:\n",
        "        note = note + note1\n",
        "    if hundrd != 0: #100\n",
        "        note = note  + note2\n",
        "    if fifty != 0:\n",
        "        note = note +  note3\n",
        "    if twenty != 0:\n",
        "        note = note + note4\n",
        "    if ten != 0:\n",
        "        note = note + note5\n",
        "    if five != 0:\n",
        "        note = note +  note6\n",
        "    if two != 0:\n",
        "        note = note +  note7\n",
        "    if one != 0:\n",
        "        note = note + note8\n",
        "\n",
        "    return note\n",
        "print(splittingMoney(amount))\n"
      ],
      "metadata": {
        "id": "eiWh3I0oth_E"
      },
      "execution_count": null,
      "outputs": []
    },
    {
      "cell_type": "code",
      "source": [
        "#TASK17\n",
        "i=int(input('Enter element no: '))\n",
        "list=[]\n",
        "counter=0\n",
        "while counter<i:\n",
        "    num=int(input('Enter element: '))\n",
        "    list.append(num)\n",
        "    counter+=1\n",
        "\n",
        "even_list=[]\n",
        "def  removeOdd(even):\n",
        "    for num in list:\n",
        "\n",
        "        if int(num)%2==0:\n",
        "            even_list.append(num)\n",
        "        else:\n",
        "            continue\n",
        "    return even_list\n",
        "print(removeOdd(even_list))\n"
      ],
      "metadata": {
        "id": "bgpL_3gbtjZy"
      },
      "execution_count": null,
      "outputs": []
    },
    {
      "cell_type": "code",
      "source": [
        "#TASK18\n",
        "def division(starting,ending,first_divisor,second_divisor):\n",
        "    sum=0\n",
        "    for i in range(starting,ending):\n",
        "        if i%first_divisor==0 and i%second_divisor==0:\n",
        "            continue\n",
        "        elif i%first_divisor==0:\n",
        "            sum=sum+i\n",
        "        elif i % second_divisor == 0:\n",
        "            sum = sum + i\n",
        "    return sum\n",
        "starting=int(input())\n",
        "ending=int(input())\n",
        "first_divisor=int(input())\n",
        "second_divisor=int(input())\n",
        "\n",
        "print(division(starting,ending,first_divisor,second_divisor))\n"
      ],
      "metadata": {
        "id": "o5FhvujItk91",
        "colab": {
          "base_uri": "https://localhost:8080/"
        },
        "outputId": "ae473353-88b4-43fb-cd0b-e28204293f17"
      },
      "execution_count": null,
      "outputs": [
        {
          "output_type": "stream",
          "name": "stdout",
          "text": [
            "10\n",
            "40\n",
            "4\n",
            "7\n",
            "210\n"
          ]
        }
      ]
    },
    {
      "cell_type": "code",
      "source": [
        "#TASK19\n",
        "def stringTest(name):\n",
        "    counter=0\n",
        "    for char in usr_input:\n",
        "        if char in list:\n",
        "            counter+=1\n",
        "\n",
        "    if counter>0:\n",
        "        return 5\n",
        "    else:\n",
        "        return 6\n",
        "\n",
        "usr_input=str(input())\n",
        "\n",
        "list=['a','b','c','d','e','f','g','h','i','j']\n",
        "stringTest(usr_input)\n",
        "print('MANCHESTER CITY is the best club in England \\n'*stringTest(usr_input))\n"
      ],
      "metadata": {
        "id": "zGgF8BTUtmTe"
      },
      "execution_count": null,
      "outputs": []
    },
    {
      "cell_type": "code",
      "source": [
        "#TASK20\n",
        "def footballClub(*args):\n",
        "\n",
        "    if args[2]>30:\n",
        "        bonus= args[2]*(args[3]/100 * args[1])+10000\n",
        "        return bonus\n",
        "    elif 20<args[2]<=30:\n",
        "        bonus= args[2]*(args[3]/100 * args[1])+5000\n",
        "        return bonus\n",
        "    else:\n",
        "        bonus= args[2]*(args[3]/100 * args[1])\n",
        "        return bonus\n",
        "print('Neymar earned a bonus of',int(footballClub('Neymar',1200000, 30, 10)),'Taka for 31 Goals')"
      ],
      "metadata": {
        "id": "XxFgAc10t82-"
      },
      "execution_count": null,
      "outputs": []
    }
  ]
}