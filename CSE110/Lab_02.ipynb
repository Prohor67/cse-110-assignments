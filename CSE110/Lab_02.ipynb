{
  "nbformat": 4,
  "nbformat_minor": 0,
  "metadata": {
    "colab": {
      "provenance": []
    },
    "kernelspec": {
      "name": "python3",
      "display_name": "Python 3"
    },
    "language_info": {
      "name": "python"
    }
  },
  "cells": [
    {
      "cell_type": "code",
      "source": [
        "#TASK 01\n",
        "Num_1 = int(input())\n",
        "Num_2 = int(input())\n",
        "print(\"Sum =\",Num_1 + Num_2)\n",
        "print(\"Product =\",Num_1 * Num_2)\n",
        "print(\"Difference =\",Num_1 - Num_2)\n"
      ],
      "metadata": {
        "id": "8_OkNUZrI6h0",
        "colab": {
          "base_uri": "https://localhost:8080/"
        },
        "outputId": "3fecb0d2-6f0e-43ac-fa24-379ab88911e7"
      },
      "execution_count": null,
      "outputs": [
        {
          "output_type": "stream",
          "name": "stdout",
          "text": [
            "5\n",
            "4\n",
            "Sum = 9\n",
            "Product = 20\n",
            "Difference = 1\n"
          ]
        }
      ]
    },
    {
      "cell_type": "code",
      "source": [
        "#TASK 02\n",
        "import math\n",
        "Radius = float(input())\n",
        "Area = math.pi*Radius**2\n",
        "Circumference = 2*math.pi*Radius\n",
        "print(\"Area is\",Area)\n",
        "print(\"Circumference is\",Circumference)"
      ],
      "metadata": {
        "id": "EPLtbGGbI6sD",
        "colab": {
          "base_uri": "https://localhost:8080/"
        },
        "outputId": "03a80af5-df3d-49ef-a01a-403a41ba5031"
      },
      "execution_count": null,
      "outputs": [
        {
          "output_type": "stream",
          "name": "stdout",
          "text": [
            "7.9\n",
            "Area is 196.066797510539\n",
            "Circumference is 49.637163926718735\n"
          ]
        }
      ]
    },
    {
      "cell_type": "code",
      "source": [
        "#TASK 03\n",
        "Num1 = int(input())\n",
        "Num2 = int(input())\n",
        "if(Num1>Num2):\n",
        "  print(\"First is greater\")\n",
        "elif(Num1<Num2):\n",
        "  print(\"Second is greater\")\n",
        "else:\n",
        "  print(\"The numbers are equal\")"
      ],
      "metadata": {
        "id": "vKpk6U7iI8yK",
        "colab": {
          "base_uri": "https://localhost:8080/"
        },
        "outputId": "3e2e23c2-1dc1-4620-b728-02696f9e3192"
      },
      "execution_count": null,
      "outputs": [
        {
          "output_type": "stream",
          "name": "stdout",
          "text": [
            "2\n",
            "4\n",
            "Second is greater\n"
          ]
        }
      ]
    },
    {
      "cell_type": "code",
      "source": [
        "#TASK 04\n",
        "Num1 = int(input())\n",
        "Num2 = int(input())\n",
        "if(Num1>Num2):\n",
        "  print(Num1-Num2)\n",
        "else:\n",
        "  print(Num2-Num1)"
      ],
      "metadata": {
        "id": "T0ZGwY2WI82D"
      },
      "execution_count": null,
      "outputs": []
    },
    {
      "cell_type": "code",
      "source": [
        "#TASK 05\n",
        "Num = int(input())\n",
        "OE = Num%2 == 0\n",
        "if(OE) :\n",
        "  print(\"The Number is Even\")\n",
        "else:\n",
        "  print(\"The number is Odd\")"
      ],
      "metadata": {
        "id": "FsUam8hoI85L",
        "colab": {
          "base_uri": "https://localhost:8080/"
        },
        "outputId": "3bf2bd26-5e23-452e-f17a-b19b8a68b61b"
      },
      "execution_count": null,
      "outputs": [
        {
          "output_type": "stream",
          "name": "stdout",
          "text": [
            "7\n",
            "The number is Odd\n"
          ]
        }
      ]
    },
    {
      "cell_type": "code",
      "source": [
        "#TASK 06\n",
        "Num = int(input())\n",
        "Two = Num%2 == 0\n",
        "Five = Num%5 == 0\n",
        "if(Two or Five):\n",
        "  print(Num)\n",
        "else:\n",
        "  print(\"Not a multiple of 2 OR 5\")\n"
      ],
      "metadata": {
        "id": "hIVHrsYWI8-b",
        "colab": {
          "base_uri": "https://localhost:8080/"
        },
        "outputId": "3a54f806-8ca3-4beb-d5e8-32cdef89c0ac"
      },
      "execution_count": null,
      "outputs": [
        {
          "output_type": "stream",
          "name": "stdout",
          "text": [
            "5\n",
            "5\n"
          ]
        }
      ]
    },
    {
      "cell_type": "code",
      "source": [
        "#TASK 07\n",
        "Num = int(input())\n",
        "Two = Num%2 == 0\n",
        "Five = Num%5 == 0\n",
        "if(Two and Five):\n",
        "  print(\"Multiple of 2 and 5 both\")\n",
        "elif(Two or Five):\n",
        "  print(Num)\n",
        "else:\n",
        "  print(\"Not a multiple we want\")"
      ],
      "metadata": {
        "id": "o9QrEK2RI9A7",
        "outputId": "b768f1e2-693a-4b5b-e076-f0da9e8f8887",
        "colab": {
          "base_uri": "https://localhost:8080/"
        }
      },
      "execution_count": null,
      "outputs": [
        {
          "output_type": "stream",
          "name": "stdout",
          "text": [
            "10\n",
            "Multiple of 2 and 5 both\n"
          ]
        }
      ]
    },
    {
      "cell_type": "code",
      "source": [
        "#TASK 08\n",
        "Num = int(input())\n",
        "Two = Num%2 == 0\n",
        "Five = Num%5 == 0\n",
        "if(Two and Five):\n",
        "  print(Num)\n",
        "elif(Two or Five):\n",
        "  print(\"Not multiple of 2 and 5 both\")"
      ],
      "metadata": {
        "id": "UclcPlTWI9ED"
      },
      "execution_count": null,
      "outputs": []
    },
    {
      "cell_type": "code",
      "source": [
        "#TASK 09\n",
        "Time = int(input())\n",
        "Hour = Time//3600\n",
        "Rem_Sec = Time%3600\n",
        "Min = Rem_Sec//60\n",
        "Sec = Rem_Sec%60\n",
        "print(\"Hours:\",Hour,\"Minutes:\",Min,\"Seconds:\",Sec)"
      ],
      "metadata": {
        "id": "EwZbwm_yJVyW",
        "colab": {
          "base_uri": "https://localhost:8080/"
        },
        "outputId": "b1ee9867-6a52-4b9c-f2e7-f0345b664407"
      },
      "execution_count": null,
      "outputs": [
        {
          "output_type": "stream",
          "name": "stdout",
          "text": [
            "10000\n",
            "Hours: 2 Minutes: 46 Seconds: 40\n"
          ]
        }
      ]
    },
    {
      "cell_type": "code",
      "source": [
        "#TASK 10\n",
        "Hour = int(input())\n",
        "Under40 = 0<=Hour<=40\n",
        "Over40 =168>=Hour>40\n",
        "Invalid = Hour>168\n",
        "Neg =0>Hour\n",
        "if(Under40):\n",
        "  print(Hour*200)\n",
        "elif(Over40):\n",
        "  print(8000+(Hour-40)*300)\n",
        "elif(Invalid):\n",
        "  print(\"Impossible to work more than 168 hours weekly\")\n",
        "elif(Neg):\n",
        "  print(\"Hour cannot be negative\")"
      ],
      "metadata": {
        "id": "trLN7J7VJWKN",
        "colab": {
          "base_uri": "https://localhost:8080/"
        },
        "outputId": "f53e2cc9-7a02-45dd-cab2-566ee92b13fd"
      },
      "execution_count": null,
      "outputs": [
        {
          "output_type": "stream",
          "name": "stdout",
          "text": [
            "56\n",
            "12800\n"
          ]
        }
      ]
    },
    {
      "cell_type": "code",
      "execution_count": null,
      "metadata": {
        "id": "bfBScUfhIqtE",
        "colab": {
          "base_uri": "https://localhost:8080/"
        },
        "outputId": "a4441e59-28a1-4b3c-aed5-bd1a7e0215ad"
      },
      "outputs": [
        {
          "output_type": "stream",
          "name": "stdout",
          "text": [
            "112\n",
            "2478.3765801729874\n"
          ]
        }
      ],
      "source": [
        "#TASK 11\n",
        "S = int(input())\n",
        "Con1 = S<100\n",
        "Con2 = S>=100\n",
        "L = 3000-125*S**2\n",
        "L2 = 12000/(4+S**2/14900)\n",
        "if(Con1):\n",
        "  print(L)\n",
        "elif(Con2):\n",
        "  print(L2)"
      ]
    },
    {
      "cell_type": "code",
      "source": [
        "#TASK 12\n",
        "Time = int(input())\n",
        "if(4<=Time<=6):\n",
        "  print(\"Breakfast\")\n",
        "elif(Time==12 or Time==13):\n",
        "  print(\"Lunch\")\n",
        "elif(Time==16 or Time==17):\n",
        "  print(\"Snacks\")\n",
        "elif(Time==19 or Time==20):\n",
        "  print(\"Dinner\")\n",
        "elif(Time>23 or 0>Time):\n",
        "  print(\"Wrong Time\")\n",
        "else:\n",
        "  print(\"Patience is a virtue\")"
      ],
      "metadata": {
        "id": "3Sxn0b1dJcd9",
        "colab": {
          "base_uri": "https://localhost:8080/"
        },
        "outputId": "28f7ec99-8ee2-43a2-d0bd-e77e9c514e92"
      },
      "execution_count": null,
      "outputs": [
        {
          "output_type": "stream",
          "name": "stdout",
          "text": [
            "-7\n",
            "Wrong Time\n"
          ]
        }
      ]
    },
    {
      "cell_type": "code",
      "source": [
        "#TASK 13\n",
        "Grade = int(input())\n",
        "A = 90<=Grade<=100\n",
        "B = 80<=Grade<=89\n",
        "C = 70<=Grade<=79\n",
        "D = 60<=Grade<=69\n",
        "E = 50<=Grade<=59\n",
        "F = 0<=Grade<50\n",
        "I = Grade>100 or Grade<0\n",
        "if(A):\n",
        "  print(\"A\")\n",
        "elif(B):\n",
        "  print(\"B\")\n",
        "elif(C):\n",
        "  print(\"C\")\n",
        "elif(D):\n",
        "  print(\"D\")\n",
        "elif(E):\n",
        "  print(\"E\")\n",
        "elif(F):\n",
        "  print(\"F\")\n",
        "elif(I):\n",
        "  print(\"Invalid Number\")"
      ],
      "metadata": {
        "id": "Rpb9BlT8Jfjt"
      },
      "execution_count": null,
      "outputs": []
    },
    {
      "cell_type": "code",
      "source": [
        "#TASK14\n",
        "Distance = int(input())\n",
        "Time = int(input())\n",
        "Distance1 = Distance/1000\n",
        "Time1 = Time/3600\n",
        "Velocity = Distance1/Time1\n",
        "if(0<=Velocity<60):\n",
        "  print(Velocity,\"Km/h\")\n",
        "  print(\"Too slow. Needs more changes.\")\n",
        "elif(60<=Velocity<=90):\n",
        "  print(Velocity,\"Km/h\")\n",
        "  print(\"Velocity is okay. The car is ready!\")\n",
        "elif(Velocity>90):\n",
        "  print(Velocity,\"Km/h\")\n",
        "  print(\"Too fast. Only a few changes should suffice.\")"
      ],
      "metadata": {
        "id": "7l8Kd4zLJknM"
      },
      "execution_count": null,
      "outputs": []
    },
    {
      "cell_type": "code",
      "source": [
        "#TASK 15\n",
        "CGPA = float(input())\n",
        "Credit = int(input())\n",
        "CGPA4 = CGPA==4.00\n",
        "CGPA3_99 = 3.95<=CGPA<=3.99\n",
        "CGPA3_9 = 3.90<=CGPA<=3.94\n",
        "CGPA3_8 = 3.80<=CGPA<=3.89\n",
        "Cred = Credit>=30\n",
        "CGPA3_7 = CGPA<3.80\n",
        "Non_Cred = 0<=Credit<30\n",
        "Non_wai = CGPA4 or CGPA3_99 or CGPA3_9 or CGPA3_8 or CGPA3_7 and Non_Cred\n",
        "Non_wai2 = CGPA3_7 and Cred\n",
        "\n",
        "if(CGPA4 and Cred):\n",
        "  print(\"The student is eligible for a waiver of 100 percent\")\n",
        "elif(CGPA3_99 and Cred):\n",
        "  print(\"The student is eligible for a waiver of 75 percent\")\n",
        "elif(CGPA3_9 and Cred):\n",
        "  print(\"The student is eligible for a waiver of 50 percent\")\n",
        "elif(CGPA3_8 and Cred):\n",
        "  print(\"The student is eligible for a waiver of 25 percent\")\n",
        "elif(Non_wai or Non_wai2):\n",
        "  print(\"The student is not eligible for a waiver\")\n",
        "\n"
      ],
      "metadata": {
        "id": "4pKUx3-9JlKM",
        "colab": {
          "base_uri": "https://localhost:8080/"
        },
        "outputId": "2baadbac-ceab-40b6-bdac-8a7de7e4913d"
      },
      "execution_count": null,
      "outputs": [
        {
          "output_type": "stream",
          "name": "stdout",
          "text": [
            "3.89\n",
            "25\n",
            "The student is not eligible for a waiver\n"
          ]
        }
      ]
    },
    {
      "cell_type": "code",
      "source": [
        "#TASK 20\n",
        "Num = int(input())\n",
        "Two = Num%2\n",
        "Five = Num%5\n",
        "if(Two==0 or Five==0):\n",
        "  print(\"No\")\n",
        "else:\n",
        "  print(Num)"
      ],
      "metadata": {
        "id": "AlIs-yCeJlV0"
      },
      "execution_count": null,
      "outputs": []
    },
    {
      "cell_type": "code",
      "source": [
        "#TASK 21\n",
        "Num = int(input())\n",
        "Two = Num%2\n",
        "Five = Num%5\n",
        "if(Two==0 and Five==0):\n",
        "  print(\"NO\")\n",
        "else:\n",
        "  print(Num)"
      ],
      "metadata": {
        "id": "bgPkeVPFJld0"
      },
      "execution_count": null,
      "outputs": []
    },
    {
      "cell_type": "code",
      "source": [
        "#TASK 22\n",
        "Num1 = int(input())\n",
        "Num2 = int(input())\n",
        "Canvas = Num1*120\n",
        "Color = Num2*75\n",
        "Total = Canvas + Color\n",
        "\n",
        "if(0<=Total<=299):\n",
        "  print(\"Previous total: \",Total)\n",
        "  print(\"New total after discount: \",Total)\n",
        "elif(300<=Total<=499):\n",
        "   print(\"Previous total: \",Total)\n",
        "   print(\"New total after discount: \",Total-10)\n",
        "elif(500<=Total<=749):\n",
        "  print(\"Previous total: \",Total)\n",
        "  print(\"New total after discount: \",Total-20)\n",
        "elif(750<=Total<=999):\n",
        "  print(\"Previous total: \",Total)\n",
        "  print(\"New total after discount: \",Total-50)\n",
        "elif(Total>=1000):\n",
        "  print(\"Previous total: \",Total)\n",
        "  print(\"New total after discount: \",Total-150)"
      ],
      "metadata": {
        "id": "Ic0AXM1pJlkO"
      },
      "execution_count": null,
      "outputs": []
    },
    {
      "cell_type": "code",
      "source": [
        "#TASK 23\n",
        "Farenheite = int(input())\n",
        "Celcius = (Farenheite-32)*.56\n",
        "if(Celcius<20):\n",
        "  print(Celcius,\"degrees C\")\n",
        "  print(\"Winter\")\n",
        "elif(20<=Celcius<=25):\n",
        "  print(Celcius,\"degrees C\")\n",
        "  print(\"Autumn\")\n",
        "elif(25<Celcius<30):\n",
        "  print(Celcius,\"degrees C\")\n",
        "  print(\"Spring\")\n",
        "elif(Celcius>=30):\n",
        "  print(Celcius,\"degrees C\")\n",
        "  print(\"Summer\")"
      ],
      "metadata": {
        "id": "6Rmd_6K8Jgwc"
      },
      "execution_count": null,
      "outputs": []
    },
    {
      "cell_type": "code",
      "source": [
        "\n",
        "\n",
        "\n",
        "print(result2)\n",
        "print(result3)\n",
        "print(result4)\n",
        "print(result5)\n",
        "print(result6)\n",
        "print(result7)\n",
        "print(result8)\n",
        "print(result9)\n",
        "print(result10)\n"
      ],
      "metadata": {
        "colab": {
          "base_uri": "https://localhost:8080/"
        },
        "id": "XqVizT2CRPyI",
        "outputId": "0a9a20c2-ba90-450a-8f82-1cd3a5de6688"
      },
      "execution_count": null,
      "outputs": [
        {
          "output_type": "stream",
          "name": "stdout",
          "text": [
            "False\n",
            "False\n",
            "True\n",
            "False\n",
            "False\n",
            "True\n",
            "False\n",
            "False\n",
            "False\n",
            "True\n"
          ]
        }
      ]
    },
    {
      "cell_type": "code",
      "source": [
        "var1 = var2 = var3 = var4 = var5 = var6 = False\n",
        "result1 = result2 = result3 = result4 = result5 = result6 = False\n",
        "result7 = result8 = result9 = result10 = False\n",
        "var1 = (not False or False) and True\n",
        "var2 = var1 and True\n",
        "var3 = False and not True\n",
        "var4 = True\n",
        "var5 = False\n",
        "var6 = var3 and True\n",
        "result1 = (var1 and var2) and ( 40 % 3 > 45) or (var5 and var6)\n",
        "result2 = (var1 or var2) or (result1 and False)\n",
        "result3 = (var1 and result1) or result2 or var5\n",
        "result4 = (var1 or var2) or ((var3 and var1) and False)\n",
        "result5 = (var1 and var2) and (result3 or var1)\n",
        "result6 = ((var3 or not var2) and (result5)) or True\n",
        "result7 = (var4 and result1) and ((result1 and False) or True)\n",
        "result8 = ((var1 and result3) and (not var5 or var6)) and True\n",
        "result9 = ((result2 and var2) or (not result7 and var1)) and not False\n",
        "result10 = not (var1 and True)\n",
        "print(result1)\n",
        "print(result2)\n",
        "print(result3)\n",
        "print(result4)\n",
        "print(result5)\n",
        "print(result6)\n",
        "print(result7)\n",
        "print(result8)\n",
        "print(result9)\n",
        "print(result10)\n",
        "\n",
        "\n"
      ],
      "metadata": {
        "colab": {
          "base_uri": "https://localhost:8080/"
        },
        "id": "rqrMYZtVocTr",
        "outputId": "c13db5da-b789-4fb6-9488-e0b857edaeaa"
      },
      "execution_count": null,
      "outputs": [
        {
          "output_type": "stream",
          "name": "stdout",
          "text": [
            "False\n",
            "True\n",
            "True\n",
            "True\n",
            "True\n",
            "True\n",
            "False\n",
            "True\n",
            "True\n",
            "False\n"
          ]
        }
      ]
    }
  ]
}