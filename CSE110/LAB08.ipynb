{
  "nbformat": 4,
  "nbformat_minor": 0,
  "metadata": {
    "colab": {
      "provenance": []
    },
    "kernelspec": {
      "name": "python3",
      "display_name": "Python 3"
    },
    "language_info": {
      "name": "python"
    }
  },
  "cells": [
    {
      "cell_type": "code",
      "execution_count": null,
      "metadata": {
        "id": "Lb_HWgewYZng"
      },
      "outputs": [],
      "source": [
        "#Bubble SORT ASCENDING\n",
        "def bubbleAsc(list1):\n",
        "  for i in range(len(list1)-1):\n",
        "    for j in range(0,len(list1)-i-1):\n",
        "      if list1[j]>list1[j+1]:\n",
        "        temp = list1[j]\n",
        "        list1[j]=list1[j+1]\n",
        "        list1[j+1] = temp\n",
        "  return list1\n",
        ""
      ]
    },
    {
      "cell_type": "code",
      "source": [
        "#Bubble Sort DESCENDING\n",
        "def bubbleDes(list1):\n",
        "  for i in range(len(list1)-1):\n",
        "    for j in range(0,len(list1)-i-1):\n",
        "      if list1[j]<list1[j+1]:\n",
        "        temp = list1[j]\n",
        "        list1[j]=list1[j+1]\n",
        "        list1[j+1] = temp\n",
        "  return list1\n"
      ],
      "metadata": {
        "id": "OmGp5uFyjq64"
      },
      "execution_count": null,
      "outputs": []
    },
    {
      "cell_type": "code",
      "source": [
        "#Selection Sort ASCENDING\n",
        "def selectionAsc(list1):\n",
        "  for index1 in range(0, len(list1)-1):\n",
        "    min_val = list1[index1]\n",
        "    min_index = index1\n",
        "    for index2 in range(index1+1, len(list1)):\n",
        "         if list1[index2] < min_val:\n",
        "               min_val = list1[index2]\n",
        "               min_index = index2\n",
        "    temp =  min_val\n",
        "    list1[min_index] =  list1[index1]\n",
        "    list1[index1] = temp\n",
        "\n",
        "  return list1"
      ],
      "metadata": {
        "id": "TKYv10J2Zx6B"
      },
      "execution_count": null,
      "outputs": []
    },
    {
      "cell_type": "code",
      "source": [
        "#SELCTION SORT DESCENDING\n",
        "def selectionDes(list1):\n",
        "  for index1 in range(0, len(list1)-1):\n",
        "    min_val = list1[index1]\n",
        "    min_index = index1\n",
        "    for index2 in range(index1+1, len(list1)):\n",
        "         if list1[index2] > min_val:\n",
        "               min_val = list1[index2]\n",
        "               min_index = index2\n",
        "    temp =  min_val\n",
        "    list1[min_index] =  list1[index1]\n",
        "    list1[index1] = temp\n",
        "\n",
        "  return list1"
      ],
      "metadata": {
        "id": "tutcElfXjo4K"
      },
      "execution_count": null,
      "outputs": []
    },
    {
      "cell_type": "code",
      "source": [
        "#TASK1\n",
        "list1 = [10, 1, 20, 3, 6, 2, 5, 11, 15, 2, 12, 14, 17, 18, 29]\n",
        "print(bubbleAsc(list1))\n"
      ],
      "metadata": {
        "colab": {
          "base_uri": "https://localhost:8080/"
        },
        "id": "XY689Q2Yave_",
        "outputId": "1bdc167a-78c3-4a52-e8b8-ce669c704106"
      },
      "execution_count": null,
      "outputs": [
        {
          "output_type": "stream",
          "name": "stdout",
          "text": [
            "[1, 2, 2, 3, 5, 6, 10, 11, 12, 14, 15, 17, 18, 20, 29]\n"
          ]
        }
      ]
    },
    {
      "cell_type": "code",
      "source": [
        "#TASK2\n",
        "list1= [10, 1, 20, 3, 6, 2, 5, 11, 15, 2, 12, 14, 17, 18, 29]\n",
        "selectionAsc(list1)\n"
      ],
      "metadata": {
        "colab": {
          "base_uri": "https://localhost:8080/"
        },
        "id": "plqR0w4_a8y6",
        "outputId": "460b0ff6-5814-406e-b350-32bbafe986ff"
      },
      "execution_count": null,
      "outputs": [
        {
          "output_type": "execute_result",
          "data": {
            "text/plain": [
              "[1, 2, 2, 3, 5, 6, 10, 11, 12, 14, 15, 17, 18, 20, 29]"
            ]
          },
          "metadata": {},
          "execution_count": 62
        }
      ]
    },
    {
      "cell_type": "code",
      "source": [
        "#TASK3\n",
        "list1 = [10, 1, 20, 3, 6, 2, 5, 11, 15, 2, 12, 14, 17, 18, 29]\n",
        "selectionAsc(list1)\n",
        "list2=[]\n",
        "for i in range(len(list1)-1,-1,-1):\n",
        "  list2.append(list1[i])\n",
        "print(list2)"
      ],
      "metadata": {
        "colab": {
          "base_uri": "https://localhost:8080/"
        },
        "id": "Y1gly3uWbsly",
        "outputId": "fd6d188a-d43d-4bbd-ac07-071813b25bb6"
      },
      "execution_count": null,
      "outputs": [
        {
          "output_type": "stream",
          "name": "stdout",
          "text": [
            "[29, 20, 18, 17, 15, 14, 12, 11, 10, 6, 5, 3, 2, 2, 1]\n"
          ]
        }
      ]
    },
    {
      "cell_type": "code",
      "source": [
        "#TASK03 ALTER\n",
        "list1 = [10, 1, 20, 3, 6, 2, 5, 11, 15, 2, 12, 14, 17, 18, 29]\n",
        "selectionDes(list1)\n"
      ],
      "metadata": {
        "colab": {
          "base_uri": "https://localhost:8080/"
        },
        "id": "MxrGdy-KdJWk",
        "outputId": "5602cd3b-ea3d-4a5c-f5dd-d1c778b7c212"
      },
      "execution_count": null,
      "outputs": [
        {
          "output_type": "execute_result",
          "data": {
            "text/plain": [
              "[29, 20, 18, 17, 15, 14, 12, 11, 10, 6, 5, 3, 2, 2, 1]"
            ]
          },
          "metadata": {},
          "execution_count": 65
        }
      ]
    },
    {
      "cell_type": "code",
      "source": [
        "#TASK04\n",
        "list1 = [10,30,20,70,11,15,22,16,58,100,12,56,70,80]\n",
        "final = []\n",
        "odd = bubbleDes(list1[1::2])\n",
        "even = selectionAsc(list1[0::2])\n",
        "for j in range(len(odd)):\n",
        "  final.append(even[j])\n",
        "  final.append(odd[j])\n",
        "print(final)\n"
      ],
      "metadata": {
        "colab": {
          "base_uri": "https://localhost:8080/"
        },
        "id": "pCaWuvp6lPHx",
        "outputId": "43702e99-7a42-41be-ab1c-276a597e0cf9"
      },
      "execution_count": null,
      "outputs": [
        {
          "output_type": "stream",
          "name": "stdout",
          "text": [
            "[10, 100, 11, 80, 12, 70, 20, 56, 22, 30, 58, 16, 70, 15]\n"
          ]
        }
      ]
    },
    {
      "cell_type": "code",
      "source": [
        "#TASK05\n",
        "lst = [ [\"Alan\", 95, 87, 91], [\"Turing\", 92, 90, 83], [\"Elon\", 87, 92, 80], [\"Musk\", 85, 94, 90] ]\n",
        "usr_input = input()\n",
        "if usr_input == \"CSE110\":\n",
        "  index = 1\n",
        "elif usr_input == \"PHY111\":\n",
        "  index = 2\n",
        "elif usr_input == \"MAT110\":\n",
        "  index = 3\n",
        "new_lst = []\n",
        "for i in lst:\n",
        "  new_lst.append(i[index])\n",
        "bubbleDes(new_lst)\n",
        "for i in new_lst:\n",
        "  for j in lst:\n",
        "    if i==j[index]:\n",
        "       print(j[0])"
      ],
      "metadata": {
        "colab": {
          "base_uri": "https://localhost:8080/"
        },
        "id": "KOf9tXmZwHRA",
        "outputId": "5c540a21-6ebc-4cd6-bb5a-e5b7d656fd86"
      },
      "execution_count": null,
      "outputs": [
        {
          "output_type": "stream",
          "name": "stdout",
          "text": [
            "PHY111\n",
            "Musk\n",
            "Elon\n",
            "Turing\n",
            "Alan\n"
          ]
        }
      ]
    },
    {
      "cell_type": "code",
      "source": [
        "#TASK06"
      ],
      "metadata": {
        "id": "517NWGMlwI6M"
      },
      "execution_count": null,
      "outputs": []
    },
    {
      "cell_type": "code",
      "source": [
        "#TASK07\n",
        "list_one = [1, 2, 1, 4]\n",
        "list_two = [5, 4, 1]\n",
        "for i in list_two:\n",
        "  list_one.append(i)\n",
        "bubbleAsc(list_one)\n"
      ],
      "metadata": {
        "colab": {
          "base_uri": "https://localhost:8080/",
          "height": 235
        },
        "id": "nEB6ciKHwKJN",
        "outputId": "0289b8a0-f316-4e95-9550-aa981451f7d1"
      },
      "execution_count": null,
      "outputs": [
        {
          "output_type": "error",
          "ename": "TypeError",
          "evalue": "ignored",
          "traceback": [
            "\u001b[0;31m---------------------------------------------------------------------------\u001b[0m",
            "\u001b[0;31mTypeError\u001b[0m                                 Traceback (most recent call last)",
            "\u001b[0;32m<ipython-input-82-0b76d63b1fe0>\u001b[0m in \u001b[0;36m<module>\u001b[0;34m\u001b[0m\n\u001b[1;32m      6\u001b[0m \u001b[0mbubbleAsc\u001b[0m\u001b[0;34m(\u001b[0m\u001b[0mlist_one\u001b[0m\u001b[0;34m)\u001b[0m\u001b[0;34m\u001b[0m\u001b[0;34m\u001b[0m\u001b[0m\n\u001b[1;32m      7\u001b[0m \u001b[0;32mif\u001b[0m \u001b[0;34m(\u001b[0m\u001b[0mlen\u001b[0m\u001b[0;34m(\u001b[0m\u001b[0mlist_one\u001b[0m\u001b[0;34m)\u001b[0m\u001b[0;34m%\u001b[0m\u001b[0;36m2\u001b[0m\u001b[0;34m==\u001b[0m\u001b[0;36m0\u001b[0m\u001b[0;34m)\u001b[0m\u001b[0;34m:\u001b[0m\u001b[0;34m\u001b[0m\u001b[0;34m\u001b[0m\u001b[0m\n\u001b[0;32m----> 8\u001b[0;31m   \u001b[0mAvg\u001b[0m \u001b[0;34m=\u001b[0m \u001b[0;34m(\u001b[0m\u001b[0mlist_one\u001b[0m\u001b[0;34m[\u001b[0m\u001b[0mlen\u001b[0m\u001b[0;34m(\u001b[0m\u001b[0mlist_one\u001b[0m\u001b[0;34m//\u001b[0m\u001b[0;36m2\u001b[0m\u001b[0;34m)\u001b[0m\u001b[0;34m]\u001b[0m\u001b[0;34m+\u001b[0m\u001b[0mlist_one\u001b[0m\u001b[0;34m[\u001b[0m\u001b[0mlen\u001b[0m\u001b[0;34m(\u001b[0m\u001b[0mlist_one\u001b[0m\u001b[0;34m//\u001b[0m\u001b[0;36m2\u001b[0m\u001b[0;34m)\u001b[0m\u001b[0;34m-\u001b[0m\u001b[0;36m1\u001b[0m\u001b[0;34m]\u001b[0m\u001b[0;34m)\u001b[0m\u001b[0;34m//\u001b[0m\u001b[0;36m2\u001b[0m\u001b[0;34m\u001b[0m\u001b[0;34m\u001b[0m\u001b[0m\n\u001b[0m\u001b[1;32m      9\u001b[0m \u001b[0;34m\u001b[0m\u001b[0m\n\u001b[1;32m     10\u001b[0m \u001b[0mprint\u001b[0m\u001b[0;34m(\u001b[0m\u001b[0mAvg\u001b[0m\u001b[0;34m)\u001b[0m\u001b[0;34m\u001b[0m\u001b[0;34m\u001b[0m\u001b[0m\n",
            "\u001b[0;31mTypeError\u001b[0m: unsupported operand type(s) for //: 'list' and 'int'"
          ]
        }
      ]
    },
    {
      "cell_type": "code",
      "source": [],
      "metadata": {
        "id": "H_AI7Oy5w3Do"
      },
      "execution_count": null,
      "outputs": []
    }
  ]
}